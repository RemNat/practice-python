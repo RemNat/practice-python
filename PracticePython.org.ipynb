{
 "cells": [
  {
   "cell_type": "markdown",
   "metadata": {},
   "source": [
    "***\n",
    "\n",
    "# Exercise 1 - Character Input\n",
    "Create a program that asks the user to enter their name and their age. Print out a message addressed to them that tells them the year that they will turn 100 years old.\n",
    "\n",
    "Extras:\n",
    "<ol>\n",
    "    <li> Add on to the previous program by asking the user for another number and printing out that many copies of the previous message. (Hint: order of operations exists in Python)\n",
    "    <li> Print out that many copies of the previous message on separate lines. (Hint: the string \"\\n is the same as pressing the ENTER button)\n",
    "</ol>"
   ]
  },
  {
   "cell_type": "code",
   "execution_count": null,
   "metadata": {},
   "outputs": [],
   "source": [
    "import datetime\n",
    "now = datetime.datetime.now()\n",
    "now_int = int(now.strftime(\"%Y\"))\n",
    "name = input(\"Hello User, what's your name?\\n\")\n",
    "age = int(input(\"How old are you? Give only integers.\\n\"))\n",
    "qty = int(input(\"How many times I have to print?\\n\"))\n",
    "i = 0\n",
    "if qty == 0:\n",
    "    print(\"You don't want a message.\")\n",
    "else:\n",
    "    while i != qty:\n",
    "        print(\"\\nHello {}, do you know when you will be 100 years old?\\nIn {}.\\n\".format(name, now_int - age + 100))\n",
    "        i += 1"
   ]
  },
  {
   "cell_type": "markdown",
   "metadata": {},
   "source": [
    "***\n",
    "\n",
    "# Exercise 2 - Odd or Even\n",
    "Ask the user for a number. Depending on whether the number is even or odd, print out an appropriate message to the user. Hint: how does an even / odd number react differently when divided by 2?\n",
    "\n",
    "Extras:\n",
    "<ol>\n",
    "    <li> If the number is a multiple of 4, print out a different message.\n",
    "    <li> Ask the user for two numbers: one number to check (call it num) and one number to divide by (check). If check divides evenly into num, tell that to the user. If not, print a different appropriate message.\n",
    "</ol>        "
   ]
  },
  {
   "cell_type": "code",
   "execution_count": null,
   "metadata": {},
   "outputs": [],
   "source": [
    "num = int(input(\"Give me any number to check its divisibility:\\n\"))\n",
    "check = int(input(\"Give me any number to check divisibility of previous number:\\n\"))\n",
    "\n",
    "if num % 4 == 0:\n",
    "    print(\"Your given number is even and it's dividable by 4.\")\n",
    "elif num % 2 == 0:\n",
    "    print(\"Your given number is even.\")\n",
    "else:\n",
    "    print(\"Your given number is odd.\")\n",
    "    \n",
    "if num % check == 0:\n",
    "    print(\"{} is dividable by {}.\".format(num, check))\n",
    "else:\n",
    "    print(\"{} is not dividable by {}.\".format(num, check))"
   ]
  },
  {
   "cell_type": "markdown",
   "metadata": {},
   "source": [
    "***\n",
    "\n",
    "# Exercise 3 - List LessThan Ten\n",
    "Take a list, say for example this one: $a = [1, 1, 2, 3, 5, 8, 13, 21, 34, 55, 89]$ and write a program that prints out all the elements of the list that are less than 5.\n",
    "\n",
    "Extras:\n",
    "\n",
    "<ol>\n",
    "    <li> Instead of printing the elements one by one, make a new list that has all the elements less than 5 from this list in it and print out this new list.\n",
    "    <li> Write this in one line of Python.\n",
    "    <li> Ask the user for a number and return a list that contains only elements from the original list a that are smaller than that number given by the user.\n",
    "</ol>"
   ]
  },
  {
   "cell_type": "code",
   "execution_count": null,
   "metadata": {},
   "outputs": [],
   "source": [
    "list = [1,1,2,3,5,8,13,21,34,55,89]\n",
    "sublist = []\n",
    "check = float(input(\"Give me any number, I'll show you numbers which are less than this number from list [1,1,2,3,5,8,13,21,34,55,89].\\n\"))\n",
    "if check == 5:\n",
    "    for i in list:\n",
    "        if i < 5:\n",
    "            # print(\"One by one:\", i)\n",
    "            sublist.append(i)\n",
    "            # print(\"\\n\\nOne by one in one line:\", i, end=\",\")\n",
    "    print(\"Numbers which are less than 5:\", sublist)\n",
    "    \n",
    "else:\n",
    "    for i in list:\n",
    "        if i < 5:\n",
    "            sublist.append(i)\n",
    "    print(\"Numbers which are less than 5:\", sublist)\n",
    "    for i in list:\n",
    "        if i < check:\n",
    "            sublist.append(i)\n",
    "    print(\"Numbers which are less than {}: {}.\".format(check, sublist))\n"
   ]
  },
  {
   "cell_type": "markdown",
   "metadata": {},
   "source": [
    "***\n",
    "\n",
    "# Exercise 4 - Divisors\n",
    "Create a program that asks the user for a number and then prints out a list of all the divisors of that number. (If you don’t know what a divisor is, it is a number that divides evenly into another number. For example, 13 is a divisor of 26 because 26 / 13 has no remainder.)"
   ]
  },
  {
   "cell_type": "code",
   "execution_count": null,
   "metadata": {},
   "outputs": [],
   "source": [
    "num = int(input(\"Give me any number. I'll show you something :p\\n\"))\n",
    "list = []\n",
    "for i in range(1, num + 1):\n",
    "    if num % i == 0:\n",
    "        list.append(i)\n",
    "print(\"All divisors of {}: {}.\".format(num, list))"
   ]
  },
  {
   "cell_type": "markdown",
   "metadata": {},
   "source": [
    "***\n",
    "\n",
    "# Exercise 5 - List Overlap\n",
    "Take two lists, say for example these two: $a = [1, 1, 2, 3, 5, 8, 13, 21, 34, 55, 89]$, $b = [1, 2, 3, 4, 5, 6, 7, 8, 9, 10, 11, 12, 13]$ and write a program that returns a list that contains only the elements that are common between the lists (without duplicates). Make sure your program works on two lists of different sizes.\n",
    "\n",
    "Extras:\n",
    "\n",
    "<ol>\n",
    "    <li> Randomly generate two lists to test this\n",
    "    <li> Write this in one line of Python (don’t worry if you can’t figure this out at this point - we’ll get to it soon)\n",
    "</ol>"
   ]
  },
  {
   "cell_type": "code",
   "execution_count": null,
   "metadata": {},
   "outputs": [],
   "source": [
    "alist = [1,1,2,3,5,8,13,21,34,55,89]\n",
    "blist = [1,2,3,4,5,6,7,8,9,10,11,12,13]\n",
    "common = []\n",
    "for i_a in alist:\n",
    "    for i_b in blist:\n",
    "        if i_a == i_b:\n",
    "            common.append(i_b)\n",
    "print(\"Common elements in lists a and b: {}.\".format(list(set(common))))\n"
   ]
  },
  {
   "cell_type": "markdown",
   "metadata": {},
   "source": [
    "***\n",
    "\n",
    "# Exercise 6 - String Lists\n",
    "Ask the user for a string and print out whether this string is a palindrome or not. (A palindrome is a string that reads the same forwards and backwards.)"
   ]
  },
  {
   "cell_type": "code",
   "execution_count": null,
   "metadata": {},
   "outputs": [],
   "source": [
    "word = input(\"Give me any word:\\n\")\n",
    "word = list(word)\n",
    "drow = []\n",
    "for i in range(1, len(word)+1):\n",
    "    drow.append(word[len(word)-i])\n",
    "if word == drow:\n",
    "    print(\"Your picked word {} is a palindrome! :)\".format(\"\".join(word)))\n",
    "else:\n",
    "    print(\"Your picked word {} is not a palindrome! :(\".format(\"\".join(word)))"
   ]
  },
  {
   "cell_type": "markdown",
   "metadata": {},
   "source": [
    "***\n",
    "\n",
    "# Exercise 7 - List Comprehensions\n",
    "Let’s say I give you a list saved in $a$ variable: $a = [1, 4, 9, 16, 25, 36, 49, 64, 81, 100]$. Write one line of Python that takes this list $a$ and makes a new list that has only the even elements of this list in it."
   ]
  },
  {
   "cell_type": "code",
   "execution_count": null,
   "metadata": {},
   "outputs": [],
   "source": [
    "a=[1,4,9,16,25,36,49,64,81,100]\n",
    "evenList = []\n",
    "for i in a:\n",
    "    if i % 2 == 0:\n",
    "       evenList.append(i)\n",
    "print(evenList)"
   ]
  },
  {
   "cell_type": "markdown",
   "metadata": {},
   "source": [
    "Faster way (not my solution):"
   ]
  },
  {
   "cell_type": "code",
   "execution_count": null,
   "metadata": {},
   "outputs": [],
   "source": [
    "a=[1,4,9,16,25,36,49,64,81,100]\n",
    "evenList = [i for i in a if i % 2 == 0]\n",
    "print(evenList)"
   ]
  },
  {
   "cell_type": "markdown",
   "metadata": {},
   "source": [
    "***\n",
    "\n",
    "# Exercise 8 - Rock Paper Scissors\n",
    "Make a two-player Rock-Paper-Scissors game. (Hint: Ask for player plays (using input), compare them, print out a message of congratulations to the winner, and ask if the players want to start a new game).\n",
    "\n",
    "Remember the rules:\n",
    "<ul>\n",
    "    <li> Rock beats scissors\n",
    "    <li> Scissors beats paper\n",
    "    <li> Paper beats rock\n",
    "</ul>\n"
   ]
  },
  {
   "cell_type": "code",
   "execution_count": null,
   "metadata": {},
   "outputs": [],
   "source": [
    "answer = input(\"\\nDo you want play a 'Rock Paper Scissors Game'? Write 'yes' or 'no'.\\n\")\n",
    "while answer == 'yes':\n",
    "    player1 = input(\"Player1, what are you choosing: rock, paper or scissors?\\n\")\n",
    "    player2 = input(\"Player2, what are you choosing: rock, paper or scissors?\\n\")\n",
    "    if (player1 == \"rock\" and player2 == \"rock\") or (player1 == \"paper\" and player2 == \"paper\") or (player1 == \"scissors\" and player2 == \"scissors\"):\n",
    "        print(\"Draw\") # remis\n",
    "    elif (player1 == \"rock\" and player2 == \"scissors\") or (player1 == \"paper\" and player2 == \"rock\") or (player1 == \"scissors\" and player2 == \"paper\"):\n",
    "        print(\"Player1 won. Player2 lost.\")\n",
    "    elif (player2 == \"rock\" and player1 == \"scissors\") or (player2 == \"paper\" and player1 == \"rock\") or (player2 == \"scissors\" and player1 == \"paper\"):\n",
    "        print(\"Player2 won. Player1 lost.\")\n",
    "    else:\n",
    "        print(\"Wrong answer.\")\n",
    "    answer = input(\"\\nDo you want play again? Write 'yes' or 'no'.\\n\")\n",
    "if answer == 'no':\n",
    "    print(\"The end of game. Thank you.\")"
   ]
  },
  {
   "cell_type": "markdown",
   "metadata": {},
   "source": [
    "***\n",
    "\n",
    "# Exercise 9 - Guessing Game One\n",
    "Generate a random number between 1 and 9 (including 1 and 9). Ask the user to guess the number, then tell them whether they guessed too low, too high, or exactly right. (Hint: remember to use the user input lessons from the very first exercise)\n",
    "\n",
    "Extras:\n",
    "\n",
    "<ul>\n",
    "<li> Keep the game going until the user types “exit”\n",
    "<li> Keep track of how many guesses the user has taken, and when the game ends, print this out.\n",
    "</ul>"
   ]
  },
  {
   "cell_type": "code",
   "execution_count": null,
   "metadata": {},
   "outputs": [],
   "source": [
    "import random\n",
    "random.seed(91)\n",
    "rand_numb = random.randint(1,9) # we generate a random integer from [1,9] interval\n",
    "answer = input(\"Guess, what number I did choose from [1,9] interval?\\n\")\n",
    "count = 0\n",
    "\n",
    "if int(answer) == rand_numb:\n",
    "    print(\"You guessed first time round, congrats!\")\n",
    "else:\n",
    "    count += 1\n",
    "    while answer != 'exit':\n",
    "        if int(answer) > rand_numb:\n",
    "            print(\"You didn't guess. Your picked number is too high.\\n\")\n",
    "        elif int(answer) < rand_numb:\n",
    "            print(\"You didn't guess. Your picked number is too low.\\n\")\n",
    "        elif int(answer) == rand_numb:\n",
    "            print(\"You guessed, congrats! (You needed {} chances.)\".format(count))\n",
    "            break\n",
    "        answer = input(\"Try again and pick other number or choose 'exit':\\n\")\n",
    "        count += 1\n",
    "    if answer == 'exit':\n",
    "        print(\"The end of game\")"
   ]
  },
  {
   "cell_type": "markdown",
   "metadata": {},
   "source": [
    "***\n",
    "\n",
    "# Exercise 10 - List Overlap Comprehensions\n",
    "This week’s exercise is going to be revisiting an old exercise (see Exercise 5), except require the solution in a different way. Take two lists, say for example these two: $a = [1, 1, 2, 3, 5, 8, 13, 21, 34, 55, 89]$, $b = [1, 2, 3, 4, 5, 6, 7, 8, 9, 10, 11, 12, 13]$ and write a program that returns a list that contains only the elements that are common between the lists (without duplicates). Make sure your program works on two lists of different sizes. Write this in one line of Python using at least one list comprehension. (Hint: Remember list comprehensions from Exercise 7).\n",
    "\n",
    "The original formulation of this exercise said to write the solution using one line of Python, but a few readers pointed out that this was impossible to do without using sets that I had not yet discussed on the blog, so you can either choose to use the original directive and read about the set command in Python 3.3, or try to implement this on your own and use at least one list comprehension in the solution."
   ]
  },
  {
   "cell_type": "code",
   "execution_count": null,
   "metadata": {},
   "outputs": [],
   "source": [
    "# for concrete lists:\n",
    "a = [1,1,2,3,5,8,13,21,34,55,89]\n",
    "b = [1,2,3,4,5,6,7,8,9,10,11,12,13]\n",
    "\n",
    "\"\"\"\n",
    "# longer way to create list of common elements:\n",
    "common_ab = []\n",
    "for i_a in a:\n",
    "    for i_b in b:\n",
    "        if i_a == i_b:\n",
    "            common_ab.append(i_a)\n",
    "            \n",
    "# print(list(set(common_ab)))\n",
    "\n",
    "# we have to delete duplicates: - I'LL THINK ABOUT IT\n",
    "for i in a:\n",
    "    for j in range(1, len(common_ab)):\n",
    "        if i == common_ab[j]:\n",
    "            print('i =', i, 'j =', j, ':', common_ab[j])\n",
    "        else: \n",
    "            print('nothing')\n",
    "                  \n",
    "                  \n",
    "# print(common_ab[0], common_ab[1])\n",
    "\"\"\"\n",
    "\n",
    "\n",
    "# shorter way - list comprehension:\n",
    "common_ab = list(set([i_a for i_a in a for i_b in b if i_a == i_b]))\n",
    "print(common_ab)"
   ]
  },
  {
   "cell_type": "markdown",
   "metadata": {},
   "source": [
    "Extra:\n",
    "<ul>\n",
    "    <li> Randomly generate two lists to test this\n",
    "</ul>"
   ]
  },
  {
   "cell_type": "code",
   "execution_count": null,
   "metadata": {},
   "outputs": [],
   "source": [
    "# we're importing 'random' library\n",
    "import random\n",
    "\n",
    "# we generate random length of two lists:\n",
    "k_a = random.randint(6,15)\n",
    "k_b = random.randint(6,15)\n",
    "\n",
    "# we create random lists with lengths k_a and k_b:\n",
    "a = []\n",
    "b = []\n",
    "\n",
    "for i in range(k_a + 1):\n",
    "    a.append(random.randint(1, 20))\n",
    "print('a =', a)\n",
    "\n",
    "for i in range(k_b + 1):\n",
    "    b.append(random.randint(1, 20))\n",
    "print('b =', b)\n",
    "\n",
    "common_ab = list(set([i_a for i_a in a for i_b in b if i_a == i_b]))\n",
    "print('list of common elements:', common_ab)\n",
    "    "
   ]
  },
  {
   "cell_type": "markdown",
   "metadata": {},
   "source": [
    "Other solutions, not mine:"
   ]
  },
  {
   "cell_type": "code",
   "execution_count": null,
   "metadata": {},
   "outputs": [],
   "source": [
    "# we're importing 'random' library\n",
    "import random\n",
    "\n",
    "# we generate two random lists with lengths 12 and 16; elements of these lists are numbers from [1, 30] interval:\n",
    "a = random.sample(range(1,30), 12)\n",
    "b = random.sample(range(1,30), 16)\n",
    "\n",
    "# let's look how these lists are:\n",
    "print('a =', a, '\\nb =', b)\n",
    "\n",
    "# we create a list of common unique elements:\n",
    "result_overlap = [i for i in set(a) if i in b]\n",
    "result = []\n",
    "\n",
    "for element in result_overlap:\n",
    "    if element not in result:\n",
    "        result.append(element)\n",
    "        \n",
    "# our result:        \n",
    "print(result)"
   ]
  },
  {
   "cell_type": "markdown",
   "metadata": {},
   "source": [
    "The same solution with list comprehension:"
   ]
  },
  {
   "cell_type": "code",
   "execution_count": null,
   "metadata": {},
   "outputs": [],
   "source": [
    "import random\n",
    "a = random.sample(range(1,30), 12)\n",
    "b = random.sample(range(1,30), 16)\n",
    "result_overlaps = [i for i in set(a) if i in b]\n",
    "result = [i for i in result_overlaps if result_overlaps.count(i) == 1]\n",
    "print('a =', a, '\\nb =', b, '\\n', result)"
   ]
  },
  {
   "cell_type": "markdown",
   "metadata": {},
   "source": [
    "***\n",
    "\n",
    "# Exercise 11 - Check Primality Functions\n",
    "Ask the user for a number and determine whether the number is prime or not. (For those who have forgotten, a prime number is a number that has no divisors.)<i> Ekhm, as a mathematic I have to say that is not true! A prime number is dividable only by 1 and by itself!</i> . You can (and should!) use your answer to Exercise 4 to help you. Take this opportunity to practice using functions, described below."
   ]
  },
  {
   "cell_type": "code",
   "execution_count": null,
   "metadata": {},
   "outputs": [],
   "source": [
    "numb = int(input(\"Give me a random number, I'll check wheteher this number is prime or not:\\n\"))\n",
    "divisor = []\n",
    "if numb == 1:\n",
    "    print(numb, 'is not a prime number.')\n",
    "else:\n",
    "    for i in range(1, numb + 1):\n",
    "        if numb % i == 0:\n",
    "            divisor.append(i)\n",
    "if len(divisor) == 2:\n",
    "    print(numb, 'is a prime number.')\n",
    "else:\n",
    "    print(numb, 'is not a prime number.')    "
   ]
  },
  {
   "cell_type": "markdown",
   "metadata": {},
   "source": [
    "Now, we create a function prime_number:"
   ]
  },
  {
   "cell_type": "code",
   "execution_count": null,
   "metadata": {},
   "outputs": [],
   "source": [
    "def prime_number(numb):\n",
    "    divisor = [i for i in range(1, numb + 1) if numb % i == 0]\n",
    "    if len(divisor) == 2:\n",
    "        result = 'is'\n",
    "    else:\n",
    "        result = 'is not'\n",
    "    print(numb, result, \"a prime number.\")\n",
    "    return"
   ]
  },
  {
   "cell_type": "markdown",
   "metadata": {},
   "source": [
    "Let's check if prime_number function works:"
   ]
  },
  {
   "cell_type": "code",
   "execution_count": null,
   "metadata": {},
   "outputs": [],
   "source": [
    "prime_number(5)\n",
    "prime_number(1)\n",
    "prime_number(91)\n",
    "prime_number(13)"
   ]
  },
  {
   "cell_type": "code",
   "execution_count": null,
   "metadata": {},
   "outputs": [],
   "source": [
    "prime_number(438997531)"
   ]
  },
  {
   "cell_type": "markdown",
   "metadata": {},
   "source": [
    "***\n",
    "\n",
    "# Exercise 12 - List Ends\n",
    "Write a program that takes a list of numbers (for example, $a = [5, 10, 15, 20, 25]$) and makes a new list of only the first and last elements of the given list. For practice, write this code inside a function."
   ]
  },
  {
   "cell_type": "code",
   "execution_count": null,
   "metadata": {},
   "outputs": [],
   "source": [
    "def first_last(a):\n",
    "    li = [a[0], a[len(a)-1]]\n",
    "    return li"
   ]
  },
  {
   "cell_type": "code",
   "execution_count": null,
   "metadata": {},
   "outputs": [],
   "source": [
    "a = [5, 10, 15, 20, 25]\n",
    "first_last(a)"
   ]
  },
  {
   "cell_type": "markdown",
   "metadata": {},
   "source": [
    "***\n",
    "\n",
    "# Exercise 13 - Fibonacci\n",
    "Write a program that asks the user how many Fibonnaci numbers to generate and then generates them. Take this opportunity to think about how you can use functions. Make sure to ask the user to enter the number of numbers in the sequence to generate.\n",
    "\n",
    "(Hint: The Fibonnaci seqence is a sequence of numbers where the next number in the sequence is the sum of the previous two numbers in the sequence. The sequence looks like this: $1, 1, 2, 3, 5, 8, 13, \\ldots$). \n",
    "\n",
    "Firstly, how we definite the Fibonacci sequence? Answer below:\n",
    "$$F_{n}:=\\begin{cases} 0 &\\text{ } n=0\\\\ 1  &\\text{ } n=1 \\\\ F_{n-1}+F_{n-2} &\\text{ } n>1. \\end{cases}$$"
   ]
  },
  {
   "cell_type": "code",
   "execution_count": null,
   "metadata": {},
   "outputs": [],
   "source": [
    "def fibonacci(n):\n",
    "    fibo_list = [0, 1]\n",
    "    if n == 0:\n",
    "        fibo_list = []\n",
    "    elif n == 1:\n",
    "        fibo_list = [0]\n",
    "    else:\n",
    "        fibo_list = [0, 1]\n",
    "        for i in range(n - 2):\n",
    "            fibo_list.append(fibo_list[i + 1] + fibo_list[i])\n",
    "    return fibo_list"
   ]
  },
  {
   "cell_type": "code",
   "execution_count": null,
   "metadata": {},
   "outputs": [],
   "source": [
    "how_many = int(input(\"Hello User, how many numbers of Fibonacci sequence do you want to see? \"))\n",
    "fibonacci(how_many)"
   ]
  },
  {
   "cell_type": "markdown",
   "metadata": {},
   "source": [
    "***\n",
    "\n",
    "# Exercise 14 - List Remove Duplicates\n",
    "Write a program (function!) that takes a list and returns a new list that contains all the elements of the first list minus all the duplicates.\n",
    "\n",
    "Extras:\n",
    "\n",
    "<ul>\n",
    "    <li> Write two different functions to do this - one using a loop and constructing a list, and another using sets\n",
    "    <li> Go back and do Exercise 5 using sets, and write the solution for that in a different function.\n",
    "</ul>"
   ]
  },
  {
   "cell_type": "code",
   "execution_count": null,
   "metadata": {},
   "outputs": [],
   "source": [
    "import random\n",
    "\n",
    "# generating random list with random lenghts (from 7 to 15 places):\n",
    "def gen_ran_li(): \n",
    "    a = []\n",
    "    for i in range(random.randint(7, 15) + 1):\n",
    "        a.append(random.randint(1, 20))\n",
    "    return a\n",
    "\n",
    "# removing duplicates from the list by set() function:\n",
    "def rem_dupli_set(a):\n",
    "    return list(set(a))\n",
    "\n",
    "# removing duplicates without set() function:\n",
    "def rem_dupli(a):\n",
    "    dupli = []\n",
    "    for i in range(len(a) - 1):\n",
    "        for j in range(1, len(a) - i):\n",
    "            if a[i] == a[i + j]:\n",
    "                dupli.append(a[i + j]) # index of duplicate\n",
    "    for k in dupli:\n",
    "        a.remove(k)\n",
    "    return a"
   ]
  },
  {
   "cell_type": "code",
   "execution_count": null,
   "metadata": {},
   "outputs": [],
   "source": [
    "a = gen_ran_li()\n",
    "print('a = ', a)\n",
    "rem_dupli_set(a)"
   ]
  },
  {
   "cell_type": "code",
   "execution_count": null,
   "metadata": {},
   "outputs": [],
   "source": [
    "print(rem_dupli(a))\n",
    "sorted(rem_dupli(a))"
   ]
  },
  {
   "cell_type": "markdown",
   "metadata": {},
   "source": [
    "***\n",
    "\n",
    "# Exercise 15 - Reverse Word Order\n",
    "Write a program (using functions!) that asks the user for a long string containing multiple words. Print back to the user the same string, except with the words in backwards order. For example, say I type the string: <i>My name is Michele</i>. Then I would see the string: <i>Michele is name My</i> shown back to me."
   ]
  },
  {
   "cell_type": "code",
   "execution_count": null,
   "metadata": {},
   "outputs": [],
   "source": [
    "def rev_word_ord():\n",
    "    text = input(\"Give me random sentence.\\n\")\n",
    "    text = text.split()\n",
    "    \n",
    "    # we will reverse text:\n",
    "    rev_text = []\n",
    "    for i in range(len(text) - 1, -1, -1):\n",
    "        rev_text.append(text[i])\n",
    "    # rev_text = ' '.join(map(str, rev_text)) OR\n",
    "    # now, we convert list to string by join() function:\n",
    "    rev_text = ' '.join(rev_text)\n",
    "    return rev_text"
   ]
  },
  {
   "cell_type": "code",
   "execution_count": null,
   "metadata": {},
   "outputs": [],
   "source": [
    "rev_word_ord()"
   ]
  },
  {
   "cell_type": "markdown",
   "metadata": {},
   "source": [
    "We could this faster by using \"text[::-1]\" and join() function to revesre \"text\", like below:"
   ]
  },
  {
   "cell_type": "code",
   "execution_count": null,
   "metadata": {},
   "outputs": [],
   "source": [
    "def rev_word(w):\n",
    "    return ' '.join(w.split()[::-1])"
   ]
  },
  {
   "cell_type": "code",
   "execution_count": null,
   "metadata": {},
   "outputs": [],
   "source": [
    "rev_word('My name is Michele')"
   ]
  },
  {
   "cell_type": "markdown",
   "metadata": {},
   "source": [
    "***\n",
    "\n",
    "# Exercise 16 - Password Generator\n",
    "Write a password generator in Python. Be creative with how you generate passwords - strong passwords have a mix of lowercase letters, uppercase letters, numbers, and symbols. The passwords should be random, generating a new password every time the user asks for a new password. Include your run-time code in a main method.\n",
    "\n",
    "Extra:\n",
    "\n",
    "<ul>\n",
    "    <li> Ask the user how strong they want their password to be. For weak passwords, pick a word or two from a list.\n",
    "</ul>"
   ]
  },
  {
   "cell_type": "code",
   "execution_count": null,
   "metadata": {},
   "outputs": [],
   "source": [
    "# generating a password with length \"len_password\" with no duplicate characters in the password\n",
    "import random, string\n",
    "\n",
    "def gen_dig():\n",
    "    return str(random.randint(0, 9))\n",
    "\n",
    "# string.ascii_letters - lower and upper letters\n",
    "\n",
    "def gen_low_let():\n",
    "    low_letters = ['a', 'b', 'c', 'd', 'e', 'f', 'g', 'h', 'i', 'j', 'k' 'l', 'm', 'n', 'o', 'p', 'q', 'r', 's', \\\n",
    "                   't', 'u', 'v', 'w', 'x', 'y', 'z']\n",
    "    return ''.join(random.sample(low_letters, 1))\n",
    "\n",
    "def gen_upp_let():\n",
    "    upp_letters = ['A', 'B', 'C', 'D', 'E', 'F', 'G', 'H', 'I', 'J', 'K', 'L', 'M', 'N', 'O', 'P', 'Q', 'R', 'S',\\\n",
    "                   'T', 'U', 'V', 'W', 'X', 'Y', 'Z']\n",
    "    return ''.join(random.sample(upp_letters, 1))\n",
    "\n",
    "def gen_symb():\n",
    "    return ''.join(random.sample(string.punctuation, 1))\n",
    "\n",
    "\n",
    "def gen_pass():\n",
    "    len_password = int(input(\"How long your password should be?\\n\"))\n",
    "    while len_password < 5:\n",
    "        len_password = int(input(\"The password should contain at least 5 characters:\\n\"))\n",
    "    password = []\n",
    "    for i in range(len_password):\n",
    "        k = random.randint(0, 3)\n",
    "        if k == 0:\n",
    "            password.append(gen_dig())\n",
    "        elif k == 1:\n",
    "            password.append(gen_low_let())\n",
    "        elif k == 2:\n",
    "            password.append(gen_upp_let())\n",
    "        elif k == 3:\n",
    "            password.append(gen_symb())\n",
    "    return ''.join(password)"
   ]
  },
  {
   "cell_type": "code",
   "execution_count": null,
   "metadata": {},
   "outputs": [],
   "source": [
    "gen_pass()"
   ]
  },
  {
   "cell_type": "markdown",
   "metadata": {},
   "source": [
    "Another solution, not mine:"
   ]
  },
  {
   "cell_type": "code",
   "execution_count": null,
   "metadata": {},
   "outputs": [],
   "source": [
    "import string\n",
    "import random\n",
    "\n",
    "def pw_gen(size = 8, chars=string.ascii_letters + string.digits + string.punctuation):\n",
    "\treturn ''.join(random.choice(chars) for _ in range(size))\n",
    "\n",
    "print(pw_gen(int(input('How many characters in your password?'))))"
   ]
  },
  {
   "cell_type": "markdown",
   "metadata": {},
   "source": [
    "***\n",
    "\n",
    "# Exercise 17 - Decode A Web Page\n",
    "Use the `BeautifulSoup` (library for pulling data out of HTML and XML files) and `requests` Python packages to print out a list of all the article titles on the [New York Times homepage](https://www.nytimes.com/).\n",
    "\n",
    "Firstly, look we at example below:"
   ]
  },
  {
   "cell_type": "code",
   "execution_count": null,
   "metadata": {},
   "outputs": [],
   "source": [
    "#!pip install requests\n",
    "import requests\n",
    "url = 'http://github.com'\n",
    "r = requests.get(url)\n",
    "r_html = r.text\n",
    "#print(r_html)"
   ]
  },
  {
   "cell_type": "markdown",
   "metadata": {},
   "source": [
    "Now inside the variable `r_html`, you have the HTML of the page as a string. Reading (otherwise called parsing) happens with a different Python package.\n",
    "\n",
    "#### BeautifulSoup\n",
    "To solve our problem of parsing (reading, understanding, interpreting) the string of HTML we got from `requests`, we use the `BeautifulSoup` library.\n",
    "\n",
    "What it does is give a *hierarchical* (a pyramid structure) to the HTML in the document. If you don’t know anything about HTML, the [Wikipedia](https://en.wikipedia.org/wiki/HTML) article is a good summary. For the purposes of this exercise, you don’t need to know anything about HTML beyond being able to look at it quickly.\n",
    "\n",
    "Because [`BeautifulSoup`](https://www.crummy.com/software/BeautifulSoup/bs4/doc/) takes care of interpreting our HTML for us, we can ask it things like: “give me all the lines with `<p>` tags” or “find me the parent element to the `<title>` element”, etc.\n",
    "\n",
    "Our code would look something like this:"
   ]
  },
  {
   "cell_type": "code",
   "execution_count": null,
   "metadata": {},
   "outputs": [],
   "source": [
    "from bs4 import BeautifulSoup\n",
    "\n",
    "# some requests code here for getting r_html\n",
    "\n",
    "soup = BeautifulSoup(r_html, 'html.parser')\n",
    "\n",
    "#print(soup.prettify())"
   ]
  },
  {
   "cell_type": "markdown",
   "metadata": {},
   "source": [
    "Now, let's focus on task.\n",
    "\n",
    "Parsing - processing large text into smaller fragments, easier to read or analyze. Parsing can relate to documents, e.g. in XML or HTML, or even just large text.\n"
   ]
  },
  {
   "cell_type": "markdown",
   "metadata": {},
   "source": [
    "#### Solution from website"
   ]
  },
  {
   "cell_type": "code",
   "execution_count": null,
   "metadata": {},
   "outputs": [],
   "source": [
    "import requests\n",
    "from bs4 import BeautifulSoup\n",
    "\n",
    "base_url = 'http://www.nytimes.com' \n",
    "# we download the content of above website:\n",
    "r = requests.get(base_url)\n",
    "\n",
    "# we use a built-in parser 'html.parser' to convert HTML to BS object\n",
    "soup = BeautifulSoup(r.content, 'html.parser')\n",
    "# print(soup) # <--- in one line, prettier below:\n",
    "# print(soup.prettify()) # the structure of html website\n",
    "\n",
    "print(soup.title) # the title in the browser: The New York Times - Breaking News, World News &amp; Multimedia\n",
    "print(soup.title.string) # the title in the browser (without <title></title>): The New York Times - Breaking News, World News &amp; Multimedia\n",
    "\n",
    "#print(soup.find(class_=\"css-1vvhd4r\")) # = None\n",
    "\n",
    "\n",
    "# find and loop through all elements on the page with the \n",
    "# class name \"story-heading\"\n",
    "for story_heading in soup.find_all(class_=\"story-heading\"): \n",
    "    # for the story headings that are links, print out the text\n",
    "    # and format it nicely\n",
    "    # for the others, take the contents out and format it nicely\n",
    "    if story_heading.a: \n",
    "        print(story_heading.a.text.replace(\"\\n\", \" \").strip())\n",
    "    else: \n",
    "        print(story_heading.contents.strip())"
   ]
  },
  {
   "cell_type": "markdown",
   "metadata": {},
   "source": [
    "***\n",
    "\n",
    "# Exercise 18 - Cows and Bulls\n",
    "Create a program that will play the “cows and bulls” game with the user. The game works like this:\n",
    "\n",
    "Randomly generate a 4-digit number. Ask the user to guess a 4-digit number. For every digit that the user guessed correctly *in the correct place*, they have a “cow”. For every digit the user guessed correctly *in the wrong place* is a “bull.” Every time the user makes a guess, tell them how many “cows” and “bulls” they have. Once the user guesses the correct number, the game is over. Keep track of the number of guesses the user makes throughout the game and tell the user at the end.\n",
    "\n",
    "Say the number generated by the computer is 1038. An example interaction could look like this:\n",
    "\n",
    "`Welcome to the Cows and Bulls Game!` <br>\n",
    "`Enter a number: ` <br>\n",
    " ` >>> 1234` <br>\n",
    " ` 2 cows, 0 bulls` <br>\n",
    " ` >>> 1256` <br>\n",
    "  `1 cow, 1 bull`"
   ]
  },
  {
   "cell_type": "code",
   "execution_count": null,
   "metadata": {},
   "outputs": [],
   "source": [
    "import random\n",
    "random.seed(43)\n",
    "\n",
    "def CoBu(UsNum, RanNum):\n",
    "    cows = []\n",
    "    bulls = []\n",
    "    for i in range(len(UsNum)):\n",
    "        if UsNum[i] == RanNum[i]:\n",
    "            cows.append(i)\n",
    "        for j in range(0, 4):\n",
    "            if (UsNum[i] == RanNum[j]) and (i != j):\n",
    "                bulls.append(j)\n",
    "    return (len(cows), len(bulls))\n",
    "\n",
    "run_num = str(random.randint(1000, 9999)) # 1631\n",
    "print(\"Welcome to the Cows and Bulls Game!\\n\")\n",
    "answer = input(\"Enter a 4-digit number:\\n\")\n",
    "count = 0\n",
    "\n",
    "while answer != run_num:\n",
    "    if len(answer) != 4:\n",
    "        answer = input(\"Enter a 4-digit number:\\n\")\n",
    "        count += 1\n",
    "    else:\n",
    "        print(CoBu(answer, run_num)[0], 'cows', CoBu(answer, run_num)[1], 'bulls')\n",
    "        count += 1\n",
    "        answer = input(\"Enter a 4-digit number:\\n\")\n",
    "if answer == run_num:\n",
    "    count += 1\n",
    "    print(\"You guessed for the {}. time!\".format(count))"
   ]
  },
  {
   "cell_type": "markdown",
   "metadata": {},
   "source": [
    "***\n",
    "\n",
    "# Exercise 19 - Decode A Web Page Two\n",
    "Using the `requests` and `BeautifulSoup` Python libraries, print to the screen the full text of the article on [this website](http://www.vanityfair.com/society/2014/06/monica-lewinsky-humiliation-culture). \n",
    "The article is long, so it is split up between 4 pages. Your task is to print out the text to the screen so that you can read the full article without having to click any buttons.\n",
    "\n",
    "*(Hint: The post [here](https://www.practicepython.org/solution/2014/07/10/17-decode-a-web-page-solutions.html) describes in detail how to use the BeautifulSoup and requests libraries through the solution of the exercise posted [here](https://www.practicepython.org/exercise/2014/06/06/17-decode-a-web-page.html).)*\n",
    "\n",
    "This will just print the full text of the article to the screen. It will not make it easy to read, so next exercise we will learn how to write this text to a .txt file."
   ]
  },
  {
   "cell_type": "code",
   "execution_count": null,
   "metadata": {},
   "outputs": [],
   "source": [
    "import requests\n",
    "from bs4 import BeautifulSoup as BS\n",
    "base_url = 'https://www.vanityfair.com/style/society/2014/06/monica-lewinsky-humiliation-culture'\n",
    "r = requests.get(base_url)\n",
    "soup = BeautifulSoup(r.text)\n",
    "# soup\n",
    "#elementy = soup.find_all('p') # wyszukujemy po określonym tagu\n",
    "#for element in elementy:\n",
    "#        print(element) #wyświetlamy strukture każdego diva\n",
    "\n",
    "#print(soup.prettify())\n",
    "\n",
    "all_p_cn_text_body = soup.select('p')\n",
    "\n",
    "for elem in all_p_cn_text_body[0:]:\n",
    "    print(elem.text)"
   ]
  },
  {
   "cell_type": "markdown",
   "metadata": {},
   "source": [
    "***\n",
    "\n",
    "# Exercise 20 - Element Search\n",
    "Write a function that takes an ordered list of numbers (a list where the elements are in order from smallest to largest) and another number. The function decides whether or not the given number is inside the list and returns (then prints) an appropriate boolean.\n",
    "\n",
    "Extras:\n",
    "* Use binary search.\n",
    "\n",
    "Firstly, we will write a code without using binary search:"
   ]
  },
  {
   "cell_type": "code",
   "execution_count": null,
   "metadata": {},
   "outputs": [],
   "source": [
    "import random\n",
    "random.seed(122)\n",
    "\n",
    "# generating an ordered list with random length (between 9 - 25 characters); elements of list are integers from [0, 1000] interval:\n",
    "li_num = []\n",
    "for i in range(random.randint(9, 25)):\n",
    "    li_num.append(random.randint(0, 1000))\n",
    "li_num = sorted(li_num)\n",
    "print(li_num)\n",
    "us_num = int(input(\"Give me a random integer. I'll check if this number is in list above:\\n\"))\n",
    "\n",
    "# checking if given number is inside the list\n",
    "for i in li_num:\n",
    "    if i == us_num:\n",
    "        boo = True\n",
    "        break\n",
    "    else:\n",
    "        boo = False\n",
    "print(boo)"
   ]
  },
  {
   "cell_type": "markdown",
   "metadata": {},
   "source": [
    "Now with using binary search:"
   ]
  },
  {
   "cell_type": "code",
   "execution_count": null,
   "metadata": {},
   "outputs": [],
   "source": [
    "import random\n",
    "from math import floor, ceil\n",
    "random.seed(122)\n",
    "\n",
    "# generating an ordered list with random length (between 9 - 25 characters); elements of list are integers from [0, 1000] interval:\n",
    "li_num = []\n",
    "for i in range(random.randint(9, 25)):\n",
    "    li_num.append(random.randint(0, 1000))\n",
    "li_num = sorted(li_num)\n",
    "print(li_num)\n",
    "us_num = int(input(\"Give me a random integer. I'll check if this number is in list above:\\n\"))\n",
    "\n",
    "# checking if given number is inside the list\n",
    "while len(li_num) > 3:\n",
    "    if us_num >= int(li_num[ceil(len(li_num) / 2)]):\n",
    "        li_num = li_num[ceil(len(li_num) / 2):]\n",
    "        #boo = True\n",
    "        print(li_num)\n",
    "    elif us_num < int(li_num[ceil(len(li_num) / 2)]):\n",
    "        li_num = li_num[0:(floor(len(li_num) / 2))]\n",
    "        print(li_num)\n",
    "    if us_num == int(li_num[0]) or us_num == int(li_num[1]) or us_num == int(li_num[2]):\n",
    "        boo = True\n",
    "    else:\n",
    "        boo = False\n",
    "print(boo)"
   ]
  },
  {
   "cell_type": "markdown",
   "metadata": {},
   "source": [
    "Ok, I have a program. Let's try definite a function:"
   ]
  },
  {
   "cell_type": "code",
   "execution_count": null,
   "metadata": {},
   "outputs": [],
   "source": [
    "import random\n",
    "from math import floor, ceil\n",
    "random.seed(122)\n",
    "\n",
    "def li_gen_rand():\n",
    "    li_num = []\n",
    "    for i in range(random.randint(9, 25)):\n",
    "        li_num.append(random.randint(0, 1000))\n",
    "    li_num = sorted(li_num)\n",
    "    return li_num\n",
    "\n",
    "def isin(li_num, us_num):\n",
    "    while len(li_num) > 3:\n",
    "        if us_num >= int(li_num[ceil(len(li_num) / 2)]):\n",
    "            li_num = li_num[ceil(len(li_num) / 2):]\n",
    "        elif us_num < int(li_num[ceil(len(li_num) / 2)]):\n",
    "            li_num = li_num[0:(floor(len(li_num) / 2))]\n",
    "        if us_num == int(li_num[0]) or us_num == int(li_num[1]) or us_num == int(li_num[2]):\n",
    "            boo = True\n",
    "        else:\n",
    "            boo = False\n",
    "    return boo\n",
    "\n",
    "print(\"Hello User, I can check if a random integer is in the random or not random list.\")\n",
    "userList = input(\"Write: 'random list' or write yours:\\n\")\n",
    "if userList == 'random list':\n",
    "    userList = li_gen_rand()\n",
    "else:\n",
    "    userList = list(userList)\n",
    "print(\"The list:\", userList)\n",
    "userNumb = int(input(\"Give me a random integer. I'll check if this number is in the list above:\\n\"))\n",
    "\n",
    "isin(userList, userNumb)"
   ]
  },
  {
   "cell_type": "markdown",
   "metadata": {},
   "source": [
    "***\n",
    "\n",
    "# Exercise 21 - Write To A File\n",
    "Take the code from the [How To Decode A Website](https://www.practicepython.org/exercise/2014/06/06/17-decode-a-web-page.html) exercise (if you didn’t do it or just want to play with some different code, use the code from [the solution](https://www.practicepython.org/solution/2014/07/10/17-decode-a-web-page-solutions.html)), and instead of printing the results to a screen, write the results to a txt file. In your code, just make up a name for the file you are saving to.\n",
    "\n",
    "Extras:\n",
    "\n",
    "* Ask the user to specify the name of the output file that will be saved."
   ]
  },
  {
   "cell_type": "markdown",
   "metadata": {},
   "source": [
    "#### Saving to a file\n",
    "`with open('file_to_save.txt', 'w') as open_file:\n",
    "    open_file.write('A string to write')`"
   ]
  },
  {
   "cell_type": "code",
   "execution_count": null,
   "metadata": {},
   "outputs": [],
   "source": [
    "with open('PPpython.txt', 'w') as open_file:\n",
    "    open_file.write('P P python')"
   ]
  },
  {
   "cell_type": "markdown",
   "metadata": {},
   "source": [
    "An alternate way of writing the same code is like so:\n",
    "\n",
    "`open_file = open('file_to_save.txt', 'w')\n",
    " open_file.write('A string to write')\n",
    " open_file.close()`"
   ]
  },
  {
   "cell_type": "code",
   "execution_count": null,
   "metadata": {},
   "outputs": [],
   "source": [
    "open_file = open('file_to_save.txt', 'w')\n",
    "open_file.write('A string to write')\n",
    "open_file.close()\n"
   ]
  },
  {
   "cell_type": "markdown",
   "metadata": {},
   "source": [
    "***\n",
    "\n",
    "# Exercise 22 - Read From File\n",
    "Given a `.txt` file that has a list of a bunch of names, count how many of each name there are in the file, and print out the results to the screen. I have a `.txt` file for you, if you want to [use it](http://www.practicepython.org/assets/nameslist.txt)!\n",
    "\n",
    "Extra:\n",
    "\n",
    "* Instead of using the `.txt` file from above (or instead of, if you want the challenge), take [this `.txt` file](http://www.practicepython.org/assets/Training_01.txt), and count how many of each “category” of each image there are. This text file is actually a list of files corresponding to the [SUN database](http://sundatabase.mit.edu/) scene recognition database, and lists the file directory hierarchy for the images. Once you take a look at the first line or two of the file, it will be clear which part represents the scene category. To do this, you’re going to have to remember a bit about string parsing in Python 3. I talked a little bit about it [in this post](https://www.practicepython.org/exercise/2014/03/12/06-string-lists.html).\n",
    "\n",
    "\n",
    "Firstly, I saved a nameslist.txt file from website in the right directory."
   ]
  },
  {
   "cell_type": "code",
   "execution_count": null,
   "metadata": {},
   "outputs": [],
   "source": [
    "# Reading a File\n",
    "listname = []\n",
    "dictnames = {}\n",
    "with open('nameslist.txt', 'r') as open_file:\n",
    " # .readline() reads a single line from the file:\n",
    "    line = open_file.readline()\n",
    "    while line:\n",
    "        #listname.append(line.strip('\\n'))\n",
    "        if line.strip() in dictnames:\n",
    "            dictnames[line.strip()] += 1\n",
    "        else:\n",
    "            dictnames[line.strip()] = 1\n",
    "        #print(line.strip('\\n'), end = ' ') # we show names in a line with ' ' separator\n",
    "        line = open_file.readline()\n",
    "        i += 1\n",
    "#print('\\n', listname)\n",
    "print('\\n\\n', dictnames)\n",
    "\n",
    "# How many various names we have on this list?\n",
    "#print('\\nOn this list we have {} names: {}.'.format(len(set(listname)), set(listname)))"
   ]
  },
  {
   "cell_type": "markdown",
   "metadata": {},
   "source": [
    "Extras:"
   ]
  },
  {
   "cell_type": "code",
   "execution_count": null,
   "metadata": {},
   "outputs": [],
   "source": [
    "# all text: \n",
    "# with open('Training_01.txt', 'r') as file:\n",
    "#    allText = file.read()\n",
    "# allText.split('\\n')\n",
    "\n",
    "# or line by line:\n",
    "with open('Training_01.txt', 'r') as file:\n",
    "    line = file.readline()\n",
    "    while line:\n",
    "        print(line, end='')\n",
    "        line = file.readline()\n"
   ]
  },
  {
   "cell_type": "markdown",
   "metadata": {},
   "source": [
    "***\n",
    "\n",
    "# Exercise 23 - File Overlap\n",
    "Given two `.txt` files that have lists of numbers in them, find the numbers that are overlapping. [One `.txt` file](http://www.practicepython.org/assets/primenumbers.txt) has a list of all prime numbers under 1000, and [the other `.txt` file](http://www.practicepython.org/assets/happynumbers.txt) has a list of happy numbers up to 1000.\n"
   ]
  },
  {
   "cell_type": "code",
   "execution_count": null,
   "metadata": {},
   "outputs": [],
   "source": [
    "with open('primenumbers.txt', 'r') as open_file:\n",
    "    all_text = open_file.read()\n",
    "primenumbers_list = []\n",
    "primenumbers = all_text.replace('\\n', ' ').replace('  ', ' ')\n",
    "primenumbers\n",
    "for i in primenumbers.split():\n",
    "    primenumbers_list.append(int(i))\n",
    "    \n",
    "#primenumbers_list"
   ]
  },
  {
   "cell_type": "code",
   "execution_count": null,
   "metadata": {},
   "outputs": [],
   "source": [
    "with open('happynumbers.txt', 'r') as open_file:\n",
    "    line = open_file.read()\n",
    "happynumbers = line.replace('\\n',' ').split()\n",
    "happynumbers_list = []\n",
    "for i in happynumbers:\n",
    "    happynumbers_list.append(int(i))\n",
    "# happynumbers_list"
   ]
  },
  {
   "cell_type": "code",
   "execution_count": null,
   "metadata": {},
   "outputs": [],
   "source": [
    "common_list = []\n",
    "\n",
    "for prime in primenumbers_list:\n",
    "    for happy in happynumbers_list:\n",
    "        if prime == happy:\n",
    "            common_list.append(prime)\n",
    "        else:\n",
    "            continue\n",
    "print(common_list)"
   ]
  },
  {
   "cell_type": "markdown",
   "metadata": {},
   "source": [
    "***\n",
    "\n",
    "# Exercise 24 - Draw a Game Board\n",
    "\n",
    "*This exercise is Part 1 of 4 of the Tic Tac Toe exercise series. The other exercises are: [Part 2](https://www.practicepython.org/exercise/2015/11/16/26-check-tic-tac-toe.html), [Part 3](https://www.practicepython.org/exercise/2015/11/26/27-tic-tac-toe-draw.html), and [Part 4](https://www.practicepython.org/exercise/2016/08/03/29-tic-tac-toe-game.html).*\n",
    "\n",
    "Time for some fake graphics! Let’s say we want to draw game boards that look like this:  \n",
    "\n",
    "![](cw24.jpg)\n",
    "\n",
    "This one is 3x3 (like in tic tac toe). Obviously, they come in many other sizes (8x8 for chess, 19x19 for Go, and many more).\n",
    "\n",
    "Ask the user what size game board they want to draw, and draw it for them to the screen using Python’s print statement.\n",
    "\n",
    "Remember that in Python 3, printing to the screen is accomplished by  \n",
    "`print(\"Thing to show on screen\")`  \n",
    "*Hint: this requires some use of functions, as were discussed [previously on this blog](https://www.practicepython.org/exercise/2014/04/16/11-check-primality-functions.html) and [elsewhere on the Internet, like this TutorialsPoint link](https://www.tutorialspoint.com/python/python_functions.htm).*"
   ]
  },
  {
   "cell_type": "code",
   "execution_count": null,
   "metadata": {},
   "outputs": [],
   "source": [
    "size = int(input('What size game board do you want to draw?\\n'))\n",
    "for i in range(size):\n",
    "    print(\" ---\" * size)\n",
    "    print(\"|   \" * (size + 1))\n",
    "print(\" ---\" * size)"
   ]
  },
  {
   "cell_type": "code",
   "execution_count": null,
   "metadata": {},
   "outputs": [],
   "source": [
    "def tictactoe_size(size):\n",
    "    for i in range(size):\n",
    "        print(\" ---\" * size)\n",
    "        print(\"|   \" * (size + 1))\n",
    "    print(\" ---\" * size)\n",
    "\n",
    "tictactoe_size(8)"
   ]
  },
  {
   "cell_type": "code",
   "execution_count": null,
   "metadata": {},
   "outputs": [],
   "source": [
    "tictactoe_size(19)"
   ]
  },
  {
   "cell_type": "markdown",
   "metadata": {},
   "source": [
    "***\n",
    "\n",
    "# Exercise 25 - Guessing Game Two\n",
    "\n",
    "In [a previous exercise](https://www.practicepython.org/exercise/2014/04/02/09-guessing-game-one.html), we’ve written a program that “knows” a number and asks a user to guess it.\n",
    "\n",
    "This time, we’re going to do exactly the opposite. You, the user, will have in your head a number between 0 and 100. The program will guess a number, and you, the user, will say whether it is too high, too low, or your number.\n",
    "\n",
    "At the end of this exchange, your program should print out how many guesses it took to get your number.\n",
    "\n",
    "As the writer of this program, you will have to choose how your program will strategically guess. A naive strategy can be to simply start the guessing at 1, and keep going (2, 3, 4, etc.) until you hit the number. But that’s not an optimal guessing strategy. An alternate strategy might be to guess 50 (right in the middle of the range), and then increase / decrease by 1 as needed. After you’ve written the program, try to find the optimal strategy! (We’ll talk about what is the optimal one next week with the solution.)"
   ]
  },
  {
   "cell_type": "code",
   "execution_count": 11,
   "metadata": {},
   "outputs": [
    {
     "name": "stdout",
     "output_type": "stream",
     "text": [
      "Let's play the Guessing Game Two!\n",
      "Think about a random integer between 0 and 100. I'll try to guess it.\n",
      "If you're ready, write 'start':\n",
      " start\n",
      "\n",
      "Does this number equals 50.0?\n",
      "If yes, write 'yes', if not, write 'too low' or 'too high'.\n",
      " too low\n",
      "\n",
      "Does this number equals 75.0?\n",
      "If yes, write 'yes', if not, write 'too low' or 'too high'.\n",
      " too high\n",
      "\n",
      "Does this number equals 63.0?\n",
      "If yes, write 'yes', if not, write 'too low' or 'too high'.\n",
      " too high\n",
      "\n",
      "Does this number equals 57.0?\n",
      "If yes, write 'yes', if not, write 'too low' or 'too high'.\n",
      " too high\n",
      "\n",
      "Does this number equals 54.0?\n",
      "If yes, write 'yes', if not, write 'too low' or 'too high'.\n",
      " too high\n",
      "\n",
      "Does this number equals 52.0?\n",
      "If yes, write 'yes', if not, write 'too low' or 'too high'.\n",
      " too high\n",
      "\n",
      "Does this number equals 51.0?\n",
      "If yes, write 'yes', if not, write 'too low' or 'too high'.\n",
      " yes\n",
      "I guessed for the 7. time!\n"
     ]
    }
   ],
   "source": [
    "import math\n",
    "\n",
    "# program will guess a integer between 0 and 100, so beginning of range is 0 and end of range is 100:\n",
    "ran_beg = 0\n",
    "ran_end = 100\n",
    "\n",
    "# which time the program will guess:\n",
    "counter = 0\n",
    "answer = 'answer'\n",
    "number = (ran_end - ran_beg)/2\n",
    "\n",
    "print(\"Let's play the Guessing Game Two!\\nThink about a random integer between 0 and 100. I'll try to guess it.\")\n",
    "answer = input(\"If you're ready, write 'start':\\n \")\n",
    "if answer == 'start':\n",
    "    while answer != 'yes' and (number <= ran_end) and (number >= ran_beg):\n",
    "        print(\"\\nDoes this number equals {}?\".format(number))\n",
    "        answer = input(\"If yes, write 'yes', if not, write 'too low' or 'too high'.\\n \")\n",
    "        if answer == 'too low':\n",
    "            if number == 100 or number > 100:\n",
    "                print(\"Your number should be between 0 and 100. CHEATER!\")\n",
    "                break\n",
    "            else:\n",
    "                ran_beg = number\n",
    "                number = number + math.ceil((ran_end - ran_beg)/2)\n",
    "                counter += 1\n",
    "                continue\n",
    "        elif answer == 'too high':\n",
    "            if number == 0 or number < 0:\n",
    "                print(\"Your number should be between 0 and 100. CHEATER!\")\n",
    "                break\n",
    "            else:\n",
    "                ran_end = number\n",
    "                number = number - math.floor((ran_end - ran_beg)/2)\n",
    "                counter += 1\n",
    "                continue\n",
    "        elif answer == 'yes':\n",
    "            counter += 1\n",
    "            print(\"I guessed for the {}. time!\".format(counter))\n",
    "            break\n",
    "        else:\n",
    "            print(\"Wrong answer.\\n The end of the game.\")\n",
    "            break\n",
    "else:\n",
    "    print(\"You don't want to play this game...\\n Maybe next time...\")"
   ]
  },
  {
   "cell_type": "markdown",
   "metadata": {},
   "source": [
    "***\n",
    "\n",
    "# Exercise 26 - Check Tic Tac Toe\n",
    "\n",
    "*This exercise is Part 2 of 4 of the Tic Tac Toe exercise series. The other exercises are: [Part 1](https://www.practicepython.org/exercise/2014/12/27/24-draw-a-game-board.html), [Part 3](https://www.practicepython.org/exercise/2015/11/26/27-tic-tac-toe-draw.html), and [Part 4](https://www.practicepython.org/exercise/2016/08/03/29-tic-tac-toe-game.html).*\n",
    "\n",
    "As you may have guessed, we are trying to build up to a full tic-tac-toe board. However, this is significantly more than half an hour of coding, so we’re doing it in pieces.  \n",
    "Today, we will simply focus on checking whether someone has WON a game of Tic Tac Toe, not worrying about how the moves were made.  \n",
    "If a game of Tic Tac Toe is represented as a list of lists, like so:\n",
    "\n",
    "`game = [[1, 2, 0],  \n",
    "        [2, 1, 0],  \n",
    "        [2, 1, 1]]`\n",
    "    \n",
    "where a 0 means an empty square, a 1 means that player 1 put their token in that space, and a 2 means that player 2 put their token in that space.  \n",
    "Your task this week: given a 3 by 3 list of lists that represents a Tic Tac Toe game board, tell me whether anyone has won, and tell me which player won, if any. A Tic Tac Toe win is 3 in a row - either in a row, a column, or a diagonal. Don’t worry about the case where TWO people have won - assume that in every board there will only be one winner.\n",
    "\n",
    "Here are some more examples to work with:\n",
    "\n",
    "`winner_is_2 = [[2, 2, 0],  \n",
    "                [2, 1, 0],  \n",
    "                [2, 1, 1]]`  \n",
    "\n",
    "`winner_is_1 = [[1, 2, 0],  \n",
    "                [2, 1, 0],  \n",
    "                [2, 1, 1]]`  \n",
    "\n",
    "`winner_is_also_1 = [[0, 1, 0],  \n",
    "                     [2, 1, 0],  \n",
    "                     [2, 1, 1]]`  \n",
    "\n",
    "`no_winner = [[1, 2, 0],  \n",
    "              [2, 1, 0],  \n",
    "              [2, 1, 2]]`  \n",
    "    \n",
    "`also_no_winner = [[1, 2, 0],  \n",
    "                   [2, 1, 0],  \n",
    "                   [2, 1, 0]]`"
   ]
  },
  {
   "cell_type": "code",
   "execution_count": null,
   "metadata": {},
   "outputs": [],
   "source": []
  },
  {
   "cell_type": "markdown",
   "metadata": {},
   "source": [
    "***\n",
    "\n",
    "# Exercise 27 - Tic Tac Toe Draw\n",
    "\n",
    "*This exercise is Part 3 of 4 of the Tic Tac Toe exercise series. The other exercises are: [Part 1](https://www.practicepython.org/exercise/2014/12/27/24-draw-a-game-board.html), [Part 2](https://www.practicepython.org/exercise/2015/11/16/26-check-tic-tac-toe.html), and [Part 4](https://www.practicepython.org/exercise/2016/08/03/29-tic-tac-toe-game.html).*\n",
    "\n",
    "In a [previous exercise](https://www.practicepython.org/exercise/2015/11/16/26-check-tic-tac-toe.html) we explored the idea of using a list of lists as a “data structure” to store information about a tic tac toe game. In a tic tac toe game, the “game server” needs to know where the Xs and Os are in the board, to know whether player 1 or player 2 (or whoever is X and O won).\n",
    "\n",
    "There has also been an exercise about [drawing the actual tic tac toe gameboard](https://www.practicepython.org/exercise/2014/12/27/24-draw-a-game-board.html) using text characters.\n",
    "\n",
    "The next logical step is to deal with handling user input. When a player (say player 1, who is X) wants to place an X on the screen, they can’t just click on a terminal. So we are going to approximate this clicking simply by asking the user for a coordinate of where they want to place their piece.\n",
    "\n",
    "As a reminder, our tic tac toe game is really a list of lists. The game starts out with an empty game board like this:  \n",
    "`game = [[0, 0, 0],  \n",
    "         [0, 0, 0],  \n",
    "         [0, 0, 0]]`\n",
    "         \n",
    "The computer asks Player 1 (X) what their move is (in the format `row`,`col`), and say they type `1,3`. Then the game would print out:\n",
    "\n",
    "`game = [[0, 0, X],\n",
    "         [0, 0, 0],\n",
    "         [0, 0, 0]]`\n",
    "         \n",
    "And ask Player 2 for their move, printing an O in that place.\n",
    "\n",
    "Things to note:\n",
    "\n",
    "* For this exercise, assume that player 1 (the first player to move) will always be X and player 2 (the second player) will always be `O`.\n",
    "* Notice how in the example I gave coordinates for where I want to move starting from (1, 1) instead of (0, 0). To people who don’t program, starting to count at 0 is a strange concept, so it is better for the user experience if the row counts and column counts start at 1. This is not required, but whichever way you choose to implement this, it should be explained to the player.\n",
    "* Ask the user to enter coordinates in the form “row,col” - a number, then a comma, then a number. Then you can use your Python skills to figure out which row and column they want their piece to be in.\n",
    "* Don’t worry about checking whether someone won the game, but if a player tries to put a piece in a game position where there already is another piece, do not allow the piece to go there.\n",
    "\n",
    "Bonus:  \n",
    "* For the “standard” exercise, don’t worry about “ending” the game - no need to keep track of how many squares are full. In a bonus version, keep track of how many squares are full and automatically stop asking for moves when there are no more valid moves."
   ]
  },
  {
   "cell_type": "code",
   "execution_count": null,
   "metadata": {},
   "outputs": [],
   "source": []
  },
  {
   "cell_type": "markdown",
   "metadata": {},
   "source": [
    "***\n",
    "\n",
    "# Exercise 28 - Max of Three\n",
    "\n",
    "Implement a function that takes as input three variables, and returns the largest of the three. Do this without using the Python `max()` function!\n",
    "\n",
    "The goal of this exercise is to think about some internals that Python normally takes care of for us. All you need is some variables and `if` statements!"
   ]
  },
  {
   "cell_type": "code",
   "execution_count": null,
   "metadata": {},
   "outputs": [],
   "source": []
  },
  {
   "cell_type": "markdown",
   "metadata": {},
   "source": [
    "***\n",
    "\n",
    "# Exercise 29 - Tic Tac Toe Game\n",
    "\n",
    "*This exercise is Part 4 of 4 of the Tic Tac Toe exercise series. The other exercises are: [Part 1](https://www.practicepython.org/exercise/2014/12/27/24-draw-a-game-board.html), [Part 2](https://www.practicepython.org/exercise/2015/11/16/26-check-tic-tac-toe.html), and [Part 3](https://www.practicepython.org/exercise/2015/11/26/27-tic-tac-toe-draw.html).*\n",
    "\n",
    "In 3 previous exercises, we built up a few components needed to build a Tic Tac Toe game in Python:\n",
    "1. [Draw the Tic Tac Toe game board](https://www.practicepython.org/exercise/2014/12/27/24-draw-a-game-board.html)\n",
    "2. [Checking whether a game board has a winner](https://www.practicepython.org/exercise/2015/11/16/26-check-tic-tac-toe.html)\n",
    "3. [Handle a player move from user input](https://www.practicepython.org/exercise/2015/11/26/27-tic-tac-toe-draw.html)\n",
    "\n",
    "The next step is to put all these three components together to make a two-player Tic Tac Toe game! Your challenge in this exercise is to use the functions from those previous exercises all together in the same program to make a two-player game that you can play with a friend. There are a lot of choices you will have to make when completing this exercise, so you can go as far or as little as you want with it.\n",
    "\n",
    "Here are a few things to keep in mind:\n",
    "* You should keep track of who won - if there is a winner, show a congratulatory message on the screen.\n",
    "* If there are no more moves left, don’t ask for the next player’s move!\n",
    "\n",
    "As a bonus, you can ask the players if they want to play again and keep a running tally of who won more - Player 1 or Player 2."
   ]
  },
  {
   "cell_type": "code",
   "execution_count": null,
   "metadata": {},
   "outputs": [],
   "source": []
  },
  {
   "cell_type": "markdown",
   "metadata": {},
   "source": [
    "***\n",
    "\n",
    "# Exercise 30 - Pick Word\n",
    "\n",
    "*This exercise is Part 1 of 3 of the Hangman exercise series. The other exercises are: [Part 2](https://www.practicepython.org/exercise/2017/01/02/31-guess-letters.html) and [Part 3](https://www.practicepython.org/exercise/2017/01/10/32-hangman.html).*\n",
    "\n",
    "In this exercise, the task is to write a function that picks a random word from a list of words from the [SOWPODS dictionary](http://norvig.com/ngrams/sowpods.txt).  Download this file and save it in the same directory as your Python code. This file is [Peter Norvig](https://en.wikipedia.org/wiki/Peter_Norvig)’s compilation of the dictionary of words used in professional Scrabble tournaments. Each line in the file contains a single word.\n",
    "\n",
    "*Hint: use the Python random library for picking a random word.*"
   ]
  },
  {
   "cell_type": "code",
   "execution_count": null,
   "metadata": {},
   "outputs": [],
   "source": []
  },
  {
   "cell_type": "markdown",
   "metadata": {},
   "source": [
    "***\n",
    "\n",
    "# Exercise 31 - Guess Letters\n",
    "\n",
    "*This exercise is Part 2 of 3 of the Hangman exercise series. The other exercises are: [Part 1](https://www.practicepython.org/exercise/2016/09/24/30-pick-word.html) and [Part 3](https://www.practicepython.org/exercise/2017/01/10/32-hangman.html).*\n",
    "\n",
    "Let’s continue building Hangman. In the game of Hangman, a clue word is given by the program that the player has to guess, letter by letter. The player guesses one letter at a time until the entire word has been guessed. (In the actual game, the player can only guess 6 letters incorrectly before losing).\n",
    "\n",
    "Let’s say the word the player has to guess is “EVAPORATE”. For this exercise, write the logic that asks a player to guess a letter and displays letters in the clue word that were guessed correctly. For now, let the player guess an infinite number of times until they get the entire word. As a bonus, keep track of the letters the player guessed and display a different message if the player tries to guess that letter again. Remember to stop the game when all the letters have been guessed correctly! Don’t worry about choosing a word randomly or keeping track of the number of guesses the player has remaining - we will deal with those in a future exercise.\n",
    "\n",
    "An example interaction can look like this:\n",
    "\n",
    "`>>> Welcome to Hangman!`  \n",
    "`_ _ _ _ _ _ _ _ _`  \n",
    "`>>> Guess your letter: S`  \n",
    "`Incorrect!`  \n",
    "`>>> Guess your letter: E`  \n",
    "`E _ _ _ _ _ _ _ E`  \n",
    "`...`\n",
    "\n",
    "And so on, until the player gets the word."
   ]
  },
  {
   "cell_type": "code",
   "execution_count": null,
   "metadata": {},
   "outputs": [],
   "source": []
  },
  {
   "cell_type": "markdown",
   "metadata": {},
   "source": [
    "***\n",
    "\n",
    "# Exercise 32 - Hangman\n",
    "\n",
    "*This exercise is Part 3 of 3 of the Hangman exercise series. The other exercises are: [Part 1](https://www.practicepython.org/exercise/2016/09/24/30-pick-word.html) and [Part 2](https://www.practicepython.org/exercise/2017/01/02/31-guess-letters.html).*\n",
    "\n",
    "*You can start your Python journey anywhere, but to finish this exercise you will have to have finished Parts 1 and 2 or use the solutions ([Part 1](https://www.practicepython.org/solution/2016/10/15/30-pick-word-solutions.html) and [Part 2](https://www.practicepython.org/solution/2017/01/08/31-guess-letters-solutions.html)).*\n",
    "\n",
    "In this exercise, we will finish building Hangman. In the game of Hangman, the player only has 6 incorrect guesses (head, body, 2 legs, and 2 arms) before they lose the game.\n",
    "\n",
    "In Part 1, we loaded a random word list and picked a word from it. In Part 2, we wrote the logic for guessing the letter and displaying that information to the user. In this exercise, we have to put it all together and add logic for handling guesses.\n",
    "\n",
    "Copy your code from Parts 1 and 2 into a new file as a starting point. Now add the following features:\n",
    "\n",
    "* Only let the user guess 6 times, and tell the user how many guesses they have left.\n",
    "* Keep track of the letters the user guessed. If the user guesses a letter they already guessed, don’t penalize them - let them guess again.\n",
    "\n",
    "Optional additions:\n",
    "\n",
    "* When the player wins or loses, let them start a new game.\n",
    "* Rather than telling the user `\"You have 4 incorrect guesses left\"`, display some picture art for the Hangman.\n",
    "\n",
    "*This is challenging - do the other parts of the exercise first!*\n",
    "\n",
    "Your solution will be a lot cleaner if you make use of functions to help you!"
   ]
  },
  {
   "cell_type": "code",
   "execution_count": null,
   "metadata": {},
   "outputs": [],
   "source": []
  },
  {
   "cell_type": "markdown",
   "metadata": {},
   "source": [
    "***\n",
    "\n",
    "# Exercise 33 - Birthday Dictionaries\n",
    "*This exercise is Part 1 of 4 of the birthday data exercise series. The other exercises are: [Part 2](https://www.practicepython.org/exercise/2017/02/06/34-birthday-json.html), [Part 3](https://www.practicepython.org/exercise/2017/02/28/35-birthday-months.html), and [Part 4](https://www.practicepython.org/exercise/2017/04/02/36-birthday-plots.html).*\n",
    "\n",
    "For this exercise, we will keep track of when our friend’s birthdays are, and be able to find that information based on their name. Create a dictionary (in your file) of names and birthdays. When you run your program it should ask the user to enter a name, and return the birthday of that person back to them. The interaction should look something like this:\n",
    "\n",
    "`>>> Welcome to the birthday dictionary. We know the birthdays of:`  \n",
    "`Albert Einstein`  \n",
    "`Benjamin Franklin`  \n",
    "`Ada Lovelace`  \n",
    "`>>> Who's birthday do you want to look up?`  \n",
    "`Benjamin Franklin`  \n",
    "`>>> Benjamin Franklin's birthday is 01/17/1706.`  "
   ]
  },
  {
   "cell_type": "code",
   "execution_count": null,
   "metadata": {},
   "outputs": [],
   "source": []
  },
  {
   "cell_type": "markdown",
   "metadata": {},
   "source": [
    "***\n",
    "\n",
    "# Exercise 34 - Birthday Json\n",
    "\n",
    "*This exercise is Part 2 of 4 of the birthday data exercise series. The other exercises are: [Part 1](https://www.practicepython.org/exercise/2017/01/24/33-birthday-dictionaries.html), [Part 3](https://www.practicepython.org/exercise/2017/02/28/35-birthday-months.html), and [Part 4](https://www.practicepython.org/exercise/2017/04/02/36-birthday-plots.html).*\n",
    "\n",
    "In [the previous exercise](https://www.practicepython.org/exercise/2017/01/24/33-birthday-dictionaries.html) we created a dictionary of famous scientists’ birthdays. In this exercise, modify your program from [Part 1](https://www.practicepython.org/exercise/2017/01/24/33-birthday-dictionaries.html) to load the birthday dictionary from a JSON file on disk, rather than having the dictionary defined in the program.\n",
    "\n",
    "**Bonus**: Ask the user for another scientist’s name and birthday to add to the dictionary, and update the JSON file you have on disk with the scientist’s name. If you run the program multiple times and keep adding new names, your JSON file should keep getting bigger and bigger."
   ]
  },
  {
   "cell_type": "code",
   "execution_count": null,
   "metadata": {},
   "outputs": [],
   "source": []
  },
  {
   "cell_type": "markdown",
   "metadata": {},
   "source": [
    "***\n",
    "\n",
    "# Exercise 35 - Birthday Months\n",
    "\n",
    "*This exercise is Part 3 of 4 of the birthday data exercise series. The other exercises are: [Part 1](https://www.practicepython.org/exercise/2017/01/24/33-birthday-dictionaries.html), [Part 2](https://www.practicepython.org/exercise/2017/02/06/34-birthday-json.html), and [Part 4](https://www.practicepython.org/exercise/2017/04/02/36-birthday-plots.html).*\n",
    "\n",
    "In [the previous exercise](https://www.practicepython.org/exercise/2017/02/06/34-birthday-json.html) we saved information about famous scientists’ names and birthdays to disk. In this exercise, load that JSON file from disk, extract the months of all the birthdays, and count how many scientists have a birthday in each month.\n",
    "\n",
    "Your program should output something like:\n",
    "\n",
    "`{\n",
    "\t\"May\": 3,\n",
    "\t\"November\": 2,\n",
    "\t\"December\": 1\n",
    "}`"
   ]
  },
  {
   "cell_type": "code",
   "execution_count": null,
   "metadata": {},
   "outputs": [],
   "source": []
  },
  {
   "cell_type": "markdown",
   "metadata": {},
   "source": [
    "***\n",
    "\n",
    "# Exercise 36 - Birthday Plots\n",
    "\n",
    "*This exercise is Part 4 of 4 of the birthday data exercise series. The other exercises are: [Part 1](https://www.practicepython.org/exercise/2017/01/24/33-birthday-dictionaries.html), [Part 2](https://www.practicepython.org/exercise/2017/02/06/34-birthday-json.html), and [Part 3](https://www.practicepython.org/exercise/2017/02/28/35-birthday-months.html).*\n",
    "\n",
    "In [the previous exercise](https://www.practicepython.org/exercise/2017/02/28/35-birthday-months.html) we counted how many birthdays there are in each month in our dictionary of birthdays.\n",
    "\n",
    "In this exercise, use the [bokeh](https://docs.bokeh.org/en/latest/) Python library to plot a histogram of which months the scientists have birthdays in! Because it would take a long time for you to input the months of various scientists, you can use [my scientist birthday JSON file](https://www.practicepython.org/assets/scientist_birthdays.json). Just parse out the months (if you don’t know how, I suggest looking at [the previous exercise](https://www.practicepython.org/exercise/2017/02/28/35-birthday-months.html) or [its solution](https://www.practicepython.org/solution/2017/03/19/35-birthday-months-solutions.html)) and draw your histogram.\n",
    "\n",
    "If you are using a purely web-based interface for coding, this exercise won’t work for you, since it requires installing the bokeh Python package. Now might be a good time to [install Python on your own computer](https://www.practicepython.org/blog/2017/03/24/install-python.html)."
   ]
  },
  {
   "cell_type": "code",
   "execution_count": null,
   "metadata": {},
   "outputs": [],
   "source": []
  }
 ],
 "metadata": {
  "kernelspec": {
   "display_name": "Python 3",
   "language": "python",
   "name": "python3"
  },
  "language_info": {
   "codemirror_mode": {
    "name": "ipython",
    "version": 3
   },
   "file_extension": ".py",
   "mimetype": "text/x-python",
   "name": "python",
   "nbconvert_exporter": "python",
   "pygments_lexer": "ipython3",
   "version": "3.7.4"
  }
 },
 "nbformat": 4,
 "nbformat_minor": 2
}
