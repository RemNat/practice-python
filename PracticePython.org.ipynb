{
 "cells": [
  {
   "cell_type": "markdown",
   "metadata": {},
   "source": [
    "# Exercise 1 - Character Input\n",
    "Create a program that asks the user to enter their name and their age. Print out a message addressed to them that tells them the year that they will turn 100 years old.\n",
    "\n",
    "Extras:\n",
    "<ol>\n",
    "    <li> Add on to the previous program by asking the user for another number and printing out that many copies of the previous message. (Hint: order of operations exists in Python)\n",
    "    <li> Print out that many copies of the previous message on separate lines. (Hint: the string \"\\n is the same as pressing the ENTER button)\n",
    "</ol>"
   ]
  },
  {
   "cell_type": "code",
   "execution_count": 10,
   "metadata": {},
   "outputs": [
    {
     "name": "stdout",
     "output_type": "stream",
     "text": [
      "Hello User, what's your name?\n",
      "Nat\n",
      "How old are you? Give only integers.\n",
      "12\n",
      "How many times I have to print?\n",
      "3\n",
      "Hello Nat, do you know when you will be 100 years old?\n",
      "In 2108.\n",
      "\n",
      "Hello Nat, do you know when you will be 100 years old?\n",
      "In 2108.\n",
      "\n",
      "Hello Nat, do you know when you will be 100 years old?\n",
      "In 2108.\n",
      "\n"
     ]
    }
   ],
   "source": [
    "import datetime\n",
    "now = datetime.datetime.now()\n",
    "now_int = int(now.strftime(\"%Y\"))\n",
    "name = input(\"Hello User, what's your name?\\n\")\n",
    "age = int(input(\"How old are you? Give only integers.\\n\"))\n",
    "qty = int(input(\"How many times I have to print?\\n\"))\n",
    "i = 0\n",
    "if qty == 0:\n",
    "    print(\"You don't want a message.\")\n",
    "else:\n",
    "    while i != qty:\n",
    "        print(\"\\nHello {}, do you know when you will be 100 years old?\\nIn {}.\\n\".format(name, now_int - age + 100))\n",
    "        i += 1"
   ]
  },
  {
   "cell_type": "markdown",
   "metadata": {},
   "source": [
    "# Exercise 2 - Odd or Even\n",
    "Ask the user for a number. Depending on whether the number is even or odd, print out an appropriate message to the user. Hint: how does an even / odd number react differently when divided by 2?\n",
    "\n",
    "Extras:\n",
    "<ol>\n",
    "    <li> If the number is a multiple of 4, print out a different message.\n",
    "    <li> Ask the user for two numbers: one number to check (call it num) and one number to divide by (check). If check divides evenly into num, tell that to the user. If not, print a different appropriate message.\n",
    "</ol>        "
   ]
  },
  {
   "cell_type": "code",
   "execution_count": 19,
   "metadata": {},
   "outputs": [
    {
     "name": "stdout",
     "output_type": "stream",
     "text": [
      "Give me any number to check its divisibility:\n",
      "3\n",
      "Your given number is odd.\n"
     ]
    }
   ],
   "source": [
    "num = int(input(\"Give me any number to check its divisibility:\\n\"))\n",
    "check = int(input(\"Give me any number to check divisibility of previous number:\\n\"))\n",
    "\n",
    "if num % 4 == 0:\n",
    "    print(\"Your given number is even and it's dividable by 4.\")\n",
    "elif num % 2 == 0:\n",
    "    print(\"Your given number is even.\")\n",
    "else:\n",
    "    print(\"Your given number is odd.\")\n",
    "    \n",
    "if num % check == 0:\n",
    "    print(\"{} is dividable by {}.\".format(num, check))\n",
    "else:\n",
    "    print(\"{} is not dividable by {}.\".format(num, check))"
   ]
  },
  {
   "cell_type": "markdown",
   "metadata": {},
   "source": [
    "# Exercise 3 - List LessThan Ten\n",
    "Take a list, say for example this one: $a = [1, 1, 2, 3, 5, 8, 13, 21, 34, 55, 89]$ and write a program that prints out all the elements of the list that are less than 5.\n",
    "\n",
    "Extras:\n",
    "\n",
    "<ol>\n",
    "    <li> Instead of printing the elements one by one, make a new list that has all the elements less than 5 from this list in it and print out this new list.\n",
    "    <li> Write this in one line of Python.\n",
    "    <li> Ask the user for a number and return a list that contains only elements from the original list a that are smaller than that number given by the user.\n",
    "</ol>"
   ]
  },
  {
   "cell_type": "code",
   "execution_count": 36,
   "metadata": {},
   "outputs": [
    {
     "name": "stdout",
     "output_type": "stream",
     "text": [
      "Give me any number, I'll show you numbers which are less than this number from list [1,1,2,3,5,8,13,21,34,55,89].\n",
      "5\n",
      "Numbers which are less than 5: [1, 1, 2, 3]\n"
     ]
    }
   ],
   "source": [
    "list = [1,1,2,3,5,8,13,21,34,55,89]\n",
    "sublist = []\n",
    "check = float(input(\"Give me any number, I'll show you numbers which are less than this number from list [1,1,2,3,5,8,13,21,34,55,89].\\n\"))\n",
    "if check == 5:\n",
    "    for i in list:\n",
    "        if i < 5:\n",
    "            # print(\"One by one:\", i)\n",
    "            sublist.append(i)\n",
    "            # print(\"\\n\\nOne by one in one line:\", i, end=\",\")\n",
    "    print(\"Numbers which are less than 5:\", sublist)\n",
    "    \n",
    "else:\n",
    "    for i in list:\n",
    "        if i < 5:\n",
    "            sublist.append(i)\n",
    "    print(\"Numbers which are less than 5:\", sublist)\n",
    "    for i in list:\n",
    "        if i < check:\n",
    "            sublist.append(i)\n",
    "    print(\"Numbers which are less than {}: {}.\".format(check, sublist))\n"
   ]
  },
  {
   "cell_type": "markdown",
   "metadata": {},
   "source": [
    "# Exercise 4 - Divisors\n",
    "Create a program that asks the user for a number and then prints out a list of all the divisors of that number. (If you don’t know what a divisor is, it is a number that divides evenly into another number. For example, 13 is a divisor of 26 because 26 / 13 has no remainder.)"
   ]
  },
  {
   "cell_type": "code",
   "execution_count": 40,
   "metadata": {},
   "outputs": [
    {
     "name": "stdout",
     "output_type": "stream",
     "text": [
      "Give me any number. I'll show you something :p\n",
      "144\n",
      "All divisors of 144: [1, 2, 3, 4, 6, 8, 9, 12, 16, 18, 24, 36, 48, 72, 144].\n"
     ]
    }
   ],
   "source": [
    "num = int(input(\"Give me any number. I'll show you something :p\\n\"))\n",
    "list = []\n",
    "for i in range(1, num + 1):\n",
    "    if num % i == 0:\n",
    "        list.append(i)\n",
    "print(\"All divisors of {}: {}.\".format(num, list))"
   ]
  },
  {
   "cell_type": "markdown",
   "metadata": {},
   "source": [
    "# Exercise 5 - List Overlap\n",
    "Take two lists, say for example these two: $a = [1, 1, 2, 3, 5, 8, 13, 21, 34, 55, 89]$, $b = [1, 2, 3, 4, 5, 6, 7, 8, 9, 10, 11, 12, 13]$ and write a program that returns a list that contains only the elements that are common between the lists (without duplicates). Make sure your program works on two lists of different sizes.\n",
    "\n",
    "Extras:\n",
    "\n",
    "<ol>\n",
    "    <li> Randomly generate two lists to test this\n",
    "    <li> Write this in one line of Python (don’t worry if you can’t figure this out at this point - we’ll get to it soon)\n",
    "</ol>"
   ]
  },
  {
   "cell_type": "code",
   "execution_count": 2,
   "metadata": {},
   "outputs": [
    {
     "name": "stdout",
     "output_type": "stream",
     "text": [
      "Common elements in lists a and b: [1, 2, 3, 5, 8, 13].\n"
     ]
    }
   ],
   "source": [
    "alist = [1,1,2,3,5,8,13,21,34,55,89]\n",
    "blist = [1,2,3,4,5,6,7,8,9,10,11,12,13]\n",
    "common = []\n",
    "for i_a in alist:\n",
    "    for i_b in blist:\n",
    "        if i_a == i_b:\n",
    "            common.append(i_b)\n",
    "print(\"Common elements in lists a and b: {}.\".format(list(set(common))))\n"
   ]
  },
  {
   "cell_type": "markdown",
   "metadata": {},
   "source": [
    "# Exercise 6 - String Lists\n",
    "Ask the user for a string and print out whether this string is a palindrome or not. (A palindrome is a string that reads the same forwards and backwards.)"
   ]
  },
  {
   "cell_type": "code",
   "execution_count": 47,
   "metadata": {},
   "outputs": [
    {
     "name": "stdout",
     "output_type": "stream",
     "text": [
      "Give me any word:\n",
      "rotator\n",
      "Your picked word rotator is a palindrome! :)\n"
     ]
    }
   ],
   "source": [
    "word = input(\"Give me any word:\\n\")\n",
    "word = list(word)\n",
    "drow = []\n",
    "for i in range(1, len(word)+1):\n",
    "    drow.append(word[len(word)-i])\n",
    "if word == drow:\n",
    "    print(\"Your picked word {} is a palindrome! :)\".format(\"\".join(word)))\n",
    "else:\n",
    "    print(\"Your picked word {} is not a palindrome! :(\".format(\"\".join(word)))"
   ]
  },
  {
   "cell_type": "markdown",
   "metadata": {},
   "source": [
    "# Exercise 7 - List Comprehensions\n",
    "Let’s say I give you a list saved in $a$ variable: $a = [1, 4, 9, 16, 25, 36, 49, 64, 81, 100]$. Write one line of Python that takes this list $a$ and makes a new list that has only the even elements of this list in it."
   ]
  },
  {
   "cell_type": "code",
   "execution_count": 48,
   "metadata": {},
   "outputs": [
    {
     "name": "stdout",
     "output_type": "stream",
     "text": [
      "[4, 16, 36, 64, 100]\n"
     ]
    }
   ],
   "source": [
    "a=[1,4,9,16,25,36,49,64,81,100]\n",
    "evenList = []\n",
    "for i in a:\n",
    "    if i % 2 == 0:\n",
    "       evenList.append(i)\n",
    "print(evenList)"
   ]
  },
  {
   "cell_type": "markdown",
   "metadata": {},
   "source": [
    "Faster way (not my solution):"
   ]
  },
  {
   "cell_type": "code",
   "execution_count": 49,
   "metadata": {},
   "outputs": [
    {
     "name": "stdout",
     "output_type": "stream",
     "text": [
      "[4, 16, 36, 64, 100]\n"
     ]
    }
   ],
   "source": [
    "a=[1,4,9,16,25,36,49,64,81,100]\n",
    "evenList = [i for i in a if i % 2 == 0]\n",
    "print(evenList)"
   ]
  },
  {
   "cell_type": "markdown",
   "metadata": {},
   "source": [
    "# Exercise 8 - Rock Paper Scissors\n",
    "Make a two-player Rock-Paper-Scissors game. (Hint: Ask for player plays (using input), compare them, print out a message of congratulations to the winner, and ask if the players want to start a new game).\n",
    "\n",
    "Remember the rules:\n",
    "<ul>\n",
    "    <li> Rock beats scissors\n",
    "    <li> Scissors beats paper\n",
    "    <li> Paper beats rock\n",
    "</ul>\n"
   ]
  },
  {
   "cell_type": "code",
   "execution_count": 11,
   "metadata": {},
   "outputs": [
    {
     "name": "stdout",
     "output_type": "stream",
     "text": [
      "\n",
      "Do you want play a 'Rock Paper Scissors Game'? Write 'yes' or 'no'.\n",
      "yes\n",
      "Player1, what are you choosing: rock, paper or scissors?\n",
      "rock\n",
      "Player2, what are you choosing: rock, paper or scissors?\n",
      "scissors\n",
      "Player1 won. Player2 lost.\n",
      "\n",
      "Do you want play again? Write 'yes' or 'no'.\n",
      "yes\n",
      "Player1, what are you choosing: rock, paper or scissors?\n",
      "rock\n",
      "Player2, what are you choosing: rock, paper or scissors?\n",
      "scissors\n",
      "Player1 won. Player2 lost.\n",
      "\n",
      "Do you want play again? Write 'yes' or 'no'.\n",
      "no\n",
      "The end of game. Thank you.\n"
     ]
    }
   ],
   "source": [
    "answer = input(\"\\nDo you want play a 'Rock Paper Scissors Game'? Write 'yes' or 'no'.\\n\")\n",
    "while answer == 'yes':\n",
    "    player1 = input(\"Player1, what are you choosing: rock, paper or scissors?\\n\")\n",
    "    player2 = input(\"Player2, what are you choosing: rock, paper or scissors?\\n\")\n",
    "    if (player1 == \"rock\" and player2 == \"rock\") or (player1 == \"paper\" and player2 == \"paper\") or (player1 == \"scissors\" and player2 == \"scissors\"):\n",
    "        print(\"Draw\") # remis\n",
    "    elif (player1 == \"rock\" and player2 == \"scissors\") or (player1 == \"paper\" and player2 == \"rock\") or (player1 == \"scissors\" and player2 == \"paper\"):\n",
    "        print(\"Player1 won. Player2 lost.\")\n",
    "    elif (player2 == \"rock\" and player1 == \"scissors\") or (player2 == \"paper\" and player1 == \"rock\") or (player2 == \"scissors\" and player1 == \"paper\"):\n",
    "        print(\"Player2 won. Player1 lost.\")\n",
    "    else:\n",
    "        print(\"Wrong answer.\")\n",
    "    answer = input(\"\\nDo you want play again? Write 'yes' or 'no'.\\n\")\n",
    "if answer == 'no':\n",
    "    print(\"The end of game. Thank you.\")"
   ]
  },
  {
   "cell_type": "markdown",
   "metadata": {},
   "source": [
    "# Exercise 9 - Guessing Game One\n",
    "Generate a random number between 1 and 9 (including 1 and 9). Ask the user to guess the number, then tell them whether they guessed too low, too high, or exactly right. (Hint: remember to use the user input lessons from the very first exercise)\n",
    "\n",
    "Extras:\n",
    "\n",
    "<ul>\n",
    "<li> Keep the game going until the user types “exit”\n",
    "<li> Keep track of how many guesses the user has taken, and when the game ends, print this out.\n",
    "</ul>"
   ]
  },
  {
   "cell_type": "code",
   "execution_count": 10,
   "metadata": {},
   "outputs": [
    {
     "name": "stdout",
     "output_type": "stream",
     "text": [
      "Guess, what number I did choose from [1,9] interval?\n",
      "1\n",
      "You didn't guess. Your picked number is too low.\n",
      "\n",
      "Try again and pick other number or choose 'exit':\n",
      "8\n",
      "You didn't guess. Your picked number is too high.\n",
      "\n",
      "Try again and pick other number or choose 'exit':\n",
      "5\n",
      "You didn't guess. Your picked number is too high.\n",
      "\n",
      "Try again and pick other number or choose 'exit':\n",
      "2\n",
      "You guessed, congrats! (You needed 4 chances.)\n"
     ]
    }
   ],
   "source": [
    "import random\n",
    "random.seed(91)\n",
    "rand_numb = random.randint(1,9) # we generate a random integer from [1,9] interval\n",
    "answer = input(\"Guess, what number I did choose from [1,9] interval?\\n\")\n",
    "count = 0\n",
    "\n",
    "if int(answer) == rand_numb:\n",
    "    print(\"You guessed first time round, congrats!\")\n",
    "else:\n",
    "    count += 1\n",
    "    while answer != 'exit':\n",
    "        if int(answer) > rand_numb:\n",
    "            print(\"You didn't guess. Your picked number is too high.\\n\")\n",
    "        elif int(answer) < rand_numb:\n",
    "            print(\"You didn't guess. Your picked number is too low.\\n\")\n",
    "        elif int(answer) == rand_numb:\n",
    "            print(\"You guessed, congrats! (You needed {} chances.)\".format(count))\n",
    "            break\n",
    "        answer = input(\"Try again and pick other number or choose 'exit':\\n\")\n",
    "        count += 1\n",
    "    if answer == 'exit':\n",
    "        print(\"The end of game\")"
   ]
  },
  {
   "cell_type": "markdown",
   "metadata": {},
   "source": [
    "# Exercise 10 - List Overlap Comprehensions\n",
    "This week’s exercise is going to be revisiting an old exercise (see Exercise 5), except require the solution in a different way. Take two lists, say for example these two: $a = [1, 1, 2, 3, 5, 8, 13, 21, 34, 55, 89]$, $b = [1, 2, 3, 4, 5, 6, 7, 8, 9, 10, 11, 12, 13]$ and write a program that returns a list that contains only the elements that are common between the lists (without duplicates). Make sure your program works on two lists of different sizes. Write this in one line of Python using at least one list comprehension. (Hint: Remember list comprehensions from Exercise 7).\n",
    "\n",
    "The original formulation of this exercise said to write the solution using one line of Python, but a few readers pointed out that this was impossible to do without using sets that I had not yet discussed on the blog, so you can either choose to use the original directive and read about the set command in Python 3.3, or try to implement this on your own and use at least one list comprehension in the solution."
   ]
  },
  {
   "cell_type": "code",
   "execution_count": 19,
   "metadata": {},
   "outputs": [
    {
     "name": "stdout",
     "output_type": "stream",
     "text": [
      "i = 1 j = 1 : 1\n",
      "nothing\n",
      "nothing\n",
      "nothing\n",
      "nothing\n",
      "nothing\n",
      "i = 1 j = 1 : 1\n",
      "nothing\n",
      "nothing\n",
      "nothing\n",
      "nothing\n",
      "nothing\n",
      "nothing\n",
      "i = 2 j = 2 : 2\n",
      "nothing\n",
      "nothing\n",
      "nothing\n",
      "nothing\n",
      "nothing\n",
      "nothing\n",
      "i = 3 j = 3 : 3\n",
      "nothing\n",
      "nothing\n",
      "nothing\n",
      "nothing\n",
      "nothing\n",
      "nothing\n",
      "i = 5 j = 4 : 5\n",
      "nothing\n",
      "nothing\n",
      "nothing\n",
      "nothing\n",
      "nothing\n",
      "nothing\n",
      "i = 8 j = 5 : 8\n",
      "nothing\n",
      "nothing\n",
      "nothing\n",
      "nothing\n",
      "nothing\n",
      "nothing\n",
      "i = 13 j = 6 : 13\n",
      "nothing\n",
      "nothing\n",
      "nothing\n",
      "nothing\n",
      "nothing\n",
      "nothing\n",
      "nothing\n",
      "nothing\n",
      "nothing\n",
      "nothing\n",
      "nothing\n",
      "nothing\n",
      "nothing\n",
      "nothing\n",
      "nothing\n",
      "nothing\n",
      "nothing\n",
      "nothing\n",
      "nothing\n",
      "nothing\n",
      "nothing\n",
      "nothing\n",
      "nothing\n",
      "nothing\n"
     ]
    }
   ],
   "source": [
    "# for concrete lists:\n",
    "a = [1,1,2,3,5,8,13,21,34,55,89]\n",
    "b = [1,2,3,4,5,6,7,8,9,10,11,12,13]\n",
    "\n",
    "\"\"\"\n",
    "# longer way to create list of common elements:\n",
    "common_ab = []\n",
    "for i_a in a:\n",
    "    for i_b in b:\n",
    "        if i_a == i_b:\n",
    "            common_ab.append(i_a)\n",
    "            \n",
    "# print(list(set(common_ab)))\n",
    "\n",
    "# we have to delete duplicates: - I'LL THINK ABOUT IT\n",
    "for i in a:\n",
    "    for j in range(1, len(common_ab)):\n",
    "        if i == common_ab[j]:\n",
    "            print('i =', i, 'j =', j, ':', common_ab[j])\n",
    "        else: \n",
    "            print('nothing')\n",
    "                  \n",
    "                  \n",
    "# print(common_ab[0], common_ab[1])\n",
    "\"\"\"\n",
    "\n",
    "\n",
    "# shorter way - list comprehension:\n",
    "common_ab = list(set([i_a for i_a in a for i_b in b if i_a == i_b]))\n",
    "print(common_ab)"
   ]
  },
  {
   "cell_type": "markdown",
   "metadata": {},
   "source": [
    "Extra:\n",
    "<ul>\n",
    "    <li> Randomly generate two lists to test this\n",
    "</ul>"
   ]
  },
  {
   "cell_type": "code",
   "execution_count": 31,
   "metadata": {},
   "outputs": [
    {
     "name": "stdout",
     "output_type": "stream",
     "text": [
      "a = [9, 12, 7, 20, 13, 13, 8, 10, 3, 12, 6, 10, 20, 18, 14]\n",
      "b = [12, 9, 4, 16, 2, 17, 17, 6]\n",
      "list of common elements: [9, 12, 6]\n"
     ]
    }
   ],
   "source": [
    "# we're importing 'random' library\n",
    "import random\n",
    "\n",
    "# we generate random length of two lists:\n",
    "k_a = random.randint(6,15)\n",
    "k_b = random.randint(6,15)\n",
    "\n",
    "# we create random lists with lengths k_a and k_b:\n",
    "a = []\n",
    "b = []\n",
    "\n",
    "for i in range(k_a + 1):\n",
    "    a.append(random.randint(1, 20))\n",
    "print('a =', a)\n",
    "\n",
    "for i in range(k_b + 1):\n",
    "    b.append(random.randint(1, 20))\n",
    "print('b =', b)\n",
    "\n",
    "common_ab = list(set([i_a for i_a in a for i_b in b if i_a == i_b]))\n",
    "print('list of common elements:', common_ab)\n",
    "    "
   ]
  },
  {
   "cell_type": "markdown",
   "metadata": {},
   "source": [
    "Other solutions, not mine:"
   ]
  },
  {
   "cell_type": "code",
   "execution_count": 40,
   "metadata": {},
   "outputs": [
    {
     "name": "stdout",
     "output_type": "stream",
     "text": [
      "a = [6, 28, 20, 10, 21, 11, 17, 29, 3, 9, 1, 5] \n",
      "b = [18, 10, 2, 6, 12, 25, 19, 28, 13, 16, 9, 1, 24, 23, 22, 7]\n",
      "[1, 6, 9, 10, 28]\n"
     ]
    }
   ],
   "source": [
    "# we're importing 'random' library\n",
    "import random\n",
    "\n",
    "# we generate two random lists with lengths 12 and 16; elements of these lists are numbers from [1, 30] interval:\n",
    "a = random.sample(range(1,30), 12)\n",
    "b = random.sample(range(1,30), 16)\n",
    "\n",
    "# let's look how these lists are:\n",
    "print('a =', a, '\\nb =', b)\n",
    "\n",
    "# we create a list of common unique elements:\n",
    "result_overlap = [i for i in set(a) if i in b]\n",
    "result = []\n",
    "\n",
    "for element in result_overlap:\n",
    "    if element not in result:\n",
    "        result.append(element)\n",
    "        \n",
    "# our result:        \n",
    "print(result)"
   ]
  },
  {
   "cell_type": "markdown",
   "metadata": {},
   "source": [
    "The same solution with list comprehension:"
   ]
  },
  {
   "cell_type": "code",
   "execution_count": 43,
   "metadata": {},
   "outputs": [
    {
     "name": "stdout",
     "output_type": "stream",
     "text": [
      "a = [9, 22, 24, 7, 14, 26, 23, 2, 3, 5, 13, 19] \n",
      "b = [27, 15, 11, 5, 24, 12, 29, 18, 25, 17, 14, 22, 28, 19, 16, 23] \n",
      " [5, 14, 19, 22, 23, 24]\n"
     ]
    }
   ],
   "source": [
    "import random\n",
    "a = random.sample(range(1,30), 12)\n",
    "b = random.sample(range(1,30), 16)\n",
    "result_overlaps = [i for i in set(a) if i in b]\n",
    "result = [i for i in result_overlaps if result_overlaps.count(i) == 1]\n",
    "print('a =', a, '\\nb =', b, '\\n', result)"
   ]
  },
  {
   "cell_type": "markdown",
   "metadata": {},
   "source": [
    "# Exercise 11 - Check Primality Functions\n",
    "Ask the user for a number and determine whether the number is prime or not. (For those who have forgotten, a prime number is a number that has no divisors.)<i> Ekhm, as a mathematic I have to say that is not true! A prime number is dividable only by 1 and by itself!</i> . You can (and should!) use your answer to Exercise 4 to help you. Take this opportunity to practice using functions, described below."
   ]
  },
  {
   "cell_type": "code",
   "execution_count": 7,
   "metadata": {},
   "outputs": [
    {
     "name": "stdout",
     "output_type": "stream",
     "text": [
      "Give me a random number, I'll check wheteher this number is prime or not:\n",
      "91\n",
      "[1, 7, 13, 91]\n",
      "91 is not a prime number.\n"
     ]
    }
   ],
   "source": [
    "numb = int(input(\"Give me a random number, I'll check wheteher this number is prime or not:\\n\"))\n",
    "divisor = []\n",
    "if numb == 1:\n",
    "    print(numb, 'is not a prime number.')\n",
    "else:\n",
    "    for i in range(1, numb + 1):\n",
    "        if numb % i == 0:\n",
    "            divisor.append(i)\n",
    "if len(divisor) == 2:\n",
    "    print(numb, 'is a prime number.')\n",
    "else:\n",
    "    print(numb, 'is not a prime number.')\n",
    "            \n",
    "    "
   ]
  },
  {
   "cell_type": "markdown",
   "metadata": {},
   "source": [
    "Now, we create a function prime_number:"
   ]
  },
  {
   "cell_type": "code",
   "execution_count": 2,
   "metadata": {},
   "outputs": [],
   "source": [
    "def prime_number(numb):\n",
    "    divisor = [i for i in range(1, numb + 1) if numb % i == 0]\n",
    "    if len(divisor) == 2:\n",
    "        result = 'is'\n",
    "    else:\n",
    "        result = 'is not'\n",
    "    print(numb, result, \"a prime number.\")\n",
    "    return"
   ]
  },
  {
   "cell_type": "markdown",
   "metadata": {},
   "source": [
    "Let's check if prime_number function works:"
   ]
  },
  {
   "cell_type": "code",
   "execution_count": 18,
   "metadata": {},
   "outputs": [
    {
     "name": "stdout",
     "output_type": "stream",
     "text": [
      "5 is a prime number.\n",
      "1 is not a prime number.\n",
      "91 is not a prime number.\n",
      "13 is a prime number.\n"
     ]
    }
   ],
   "source": [
    "prime_number(5)\n",
    "prime_number(1)\n",
    "prime_number(91)\n",
    "prime_number(13)"
   ]
  },
  {
   "cell_type": "code",
   "execution_count": 3,
   "metadata": {},
   "outputs": [
    {
     "name": "stdout",
     "output_type": "stream",
     "text": [
      "438997531 is not a prime number.\n"
     ]
    }
   ],
   "source": [
    "prime_number(438997531)"
   ]
  },
  {
   "cell_type": "markdown",
   "metadata": {},
   "source": [
    "# Exercise 12 - List Ends\n",
    "Write a program that takes a list of numbers (for example, $a = [5, 10, 15, 20, 25]$) and makes a new list of only the first and last elements of the given list. For practice, write this code inside a function."
   ]
  },
  {
   "cell_type": "code",
   "execution_count": 6,
   "metadata": {},
   "outputs": [],
   "source": [
    "def first_last(a):\n",
    "    li = [a[0], a[len(a)-1]]\n",
    "    return li"
   ]
  },
  {
   "cell_type": "code",
   "execution_count": 7,
   "metadata": {},
   "outputs": [
    {
     "data": {
      "text/plain": [
       "[5, 25]"
      ]
     },
     "execution_count": 7,
     "metadata": {},
     "output_type": "execute_result"
    }
   ],
   "source": [
    "a = [5, 10, 15, 20, 25]\n",
    "first_last(a)"
   ]
  },
  {
   "cell_type": "markdown",
   "metadata": {},
   "source": [
    "# Exercise 13 - Fibonacci\n",
    "Write a program that asks the user how many Fibonnaci numbers to generate and then generates them. Take this opportunity to think about how you can use functions. Make sure to ask the user to enter the number of numbers in the sequence to generate.\n",
    "\n",
    "(Hint: The Fibonnaci seqence is a sequence of numbers where the next number in the sequence is the sum of the previous two numbers in the sequence. The sequence looks like this: $1, 1, 2, 3, 5, 8, 13, \\ldots$). \n",
    "\n",
    "Firstly, how we definite the Fibonacci sequence? Answer below:\n",
    "$$F_{n}:=\\begin{cases} 0 &\\text{dla } n=0\\\\ 1  &\\text{dla } n=1 \\\\ F_{n-1}+F_{n-2} &\\text{dla } n>1. \\end{cases}$$"
   ]
  },
  {
   "cell_type": "code",
   "execution_count": 31,
   "metadata": {},
   "outputs": [],
   "source": [
    "def fibonacci(n):\n",
    "    fibo_list = [0, 1]\n",
    "    if n == 0:\n",
    "        fibo_list = []\n",
    "    elif n == 1:\n",
    "        fibo_list = [0]\n",
    "    else:\n",
    "        fibo_list = [0, 1]\n",
    "        for i in range(n - 2):\n",
    "            fibo_list.append(fibo_list[i + 1] + fibo_list[i])\n",
    "    return fibo_list"
   ]
  },
  {
   "cell_type": "code",
   "execution_count": 33,
   "metadata": {},
   "outputs": [
    {
     "name": "stdout",
     "output_type": "stream",
     "text": [
      "Hello User, how many numbers of Fibonacci sequence do you want to see? 12\n"
     ]
    },
    {
     "data": {
      "text/plain": [
       "[0, 1, 1, 2, 3, 5, 8, 13, 21, 34, 55, 89]"
      ]
     },
     "execution_count": 33,
     "metadata": {},
     "output_type": "execute_result"
    }
   ],
   "source": [
    "how_many = int(input(\"Hello User, how many numbers of Fibonacci sequence do you want to see? \"))\n",
    "fibonacci(how_many)"
   ]
  },
  {
   "cell_type": "markdown",
   "metadata": {},
   "source": [
    "# Exercise 14 - List Remove Duplicates\n",
    "Write a program (function!) that takes a list and returns a new list that contains all the elements of the first list minus all the duplicates.\n",
    "\n",
    "Extras:\n",
    "\n",
    "<ul>\n",
    "    <li> Write two different functions to do this - one using a loop and constructing a list, and another using sets\n",
    "    <li> Go back and do Exercise 5 using sets, and write the solution for that in a different function.\n",
    "</ul>"
   ]
  },
  {
   "cell_type": "code",
   "execution_count": 106,
   "metadata": {},
   "outputs": [],
   "source": [
    "import random\n",
    "\n",
    "# generating random list with random lenghts (from 7 to 15 places):\n",
    "def gen_ran_li(): \n",
    "    a = []\n",
    "    for i in range(random.randint(7, 15) + 1):\n",
    "        a.append(random.randint(1, 20))\n",
    "    return a\n",
    "\n",
    "# removing duplicates from the list by set() function:\n",
    "def rem_dupli_set(a):\n",
    "    return list(set(a))\n",
    "\n",
    "# removing duplicates without set() function:\n",
    "def rem_dupli(a):\n",
    "    dupli = []\n",
    "    for i in range(len(a) - 1):\n",
    "        for j in range(1, len(a) - i):\n",
    "            if a[i] == a[i + j]:\n",
    "                dupli.append(a[i + j]) # index of duplicate\n",
    "    for k in dupli:\n",
    "        a.remove(k)\n",
    "    return a"
   ]
  },
  {
   "cell_type": "code",
   "execution_count": 104,
   "metadata": {},
   "outputs": [
    {
     "name": "stdout",
     "output_type": "stream",
     "text": [
      "a =  [8, 12, 3, 17, 7, 9, 16, 1, 13, 6, 2, 14, 2]\n"
     ]
    },
    {
     "data": {
      "text/plain": [
       "[1, 2, 3, 6, 7, 8, 9, 12, 13, 14, 16, 17]"
      ]
     },
     "execution_count": 104,
     "metadata": {},
     "output_type": "execute_result"
    }
   ],
   "source": [
    "a = gen_ran_li()\n",
    "print('a = ', a)\n",
    "rem_dupli_set(a)"
   ]
  },
  {
   "cell_type": "code",
   "execution_count": 107,
   "metadata": {},
   "outputs": [
    {
     "name": "stdout",
     "output_type": "stream",
     "text": [
      "[8, 12, 3, 17, 7, 9, 16, 1, 13, 6, 14, 2]\n"
     ]
    },
    {
     "data": {
      "text/plain": [
       "[1, 2, 3, 6, 7, 8, 9, 12, 13, 14, 16, 17]"
      ]
     },
     "execution_count": 107,
     "metadata": {},
     "output_type": "execute_result"
    }
   ],
   "source": [
    "print(rem_dupli(a))\n",
    "sorted(rem_dupli(a))"
   ]
  },
  {
   "cell_type": "markdown",
   "metadata": {},
   "source": [
    "# Exercise 15 - Reverse Word Order\n",
    "Write a program (using functions!) that asks the user for a long string containing multiple words. Print back to the user the same string, except with the words in backwards order. For example, say I type the string: <i>My name is Michele</i>. Then I would see the string: <i>Michele is name My</i> shown back to me."
   ]
  },
  {
   "cell_type": "code",
   "execution_count": 42,
   "metadata": {},
   "outputs": [],
   "source": [
    "def rev_word_ord():\n",
    "    text = input(\"Give me random sentence.\\n\")\n",
    "    text = text.split()\n",
    "    \n",
    "    # we will reverse text:\n",
    "    rev_text = []\n",
    "    for i in range(len(text) - 1, -1, -1):\n",
    "        rev_text.append(text[i])\n",
    "    # rev_text = ' '.join(map(str, rev_text)) OR\n",
    "    # now, we convert list to string by join() function:\n",
    "    rev_text = ' '.join(rev_text)\n",
    "    return rev_text"
   ]
  },
  {
   "cell_type": "code",
   "execution_count": 43,
   "metadata": {},
   "outputs": [
    {
     "name": "stdout",
     "output_type": "stream",
     "text": [
      "Give me random sentence.\n",
      "My name is Michele\n"
     ]
    },
    {
     "data": {
      "text/plain": [
       "'Michele is name My'"
      ]
     },
     "execution_count": 43,
     "metadata": {},
     "output_type": "execute_result"
    }
   ],
   "source": [
    "rev_word_ord()"
   ]
  },
  {
   "cell_type": "markdown",
   "metadata": {},
   "source": [
    "We could this faster by using \"text[::-1]\" and join() function to revesre \"text\", like below:"
   ]
  },
  {
   "cell_type": "code",
   "execution_count": 44,
   "metadata": {},
   "outputs": [],
   "source": [
    "def rev_word(w):\n",
    "    return ' '.join(w.split()[::-1])"
   ]
  },
  {
   "cell_type": "code",
   "execution_count": 46,
   "metadata": {},
   "outputs": [
    {
     "data": {
      "text/plain": [
       "'Michele is name My'"
      ]
     },
     "execution_count": 46,
     "metadata": {},
     "output_type": "execute_result"
    }
   ],
   "source": [
    "rev_word('My name is Michele')"
   ]
  },
  {
   "cell_type": "markdown",
   "metadata": {},
   "source": [
    "# Exercise 16 - Password Generator\n",
    "Write a password generator in Python. Be creative with how you generate passwords - strong passwords have a mix of lowercase letters, uppercase letters, numbers, and symbols. The passwords should be random, generating a new password every time the user asks for a new password. Include your run-time code in a main method.\n",
    "\n",
    "Extra:\n",
    "\n",
    "<ul>\n",
    "    <li> Ask the user how strong they want their password to be. For weak passwords, pick a word or two from a list.\n",
    "</ul>"
   ]
  },
  {
   "cell_type": "code",
   "execution_count": 79,
   "metadata": {},
   "outputs": [],
   "source": [
    "# generating a password with length \"len_password\" with no duplicate characters in the password\n",
    "import random, string\n",
    "\n",
    "def gen_dig():\n",
    "    return str(random.randint(0, 9))\n",
    "\n",
    "# string.ascii_letters - lower and upper letters\n",
    "\n",
    "def gen_low_let():\n",
    "    low_letters = ['a', 'b', 'c', 'd', 'e', 'f', 'g', 'h', 'i', 'j', 'k' 'l', 'm', 'n', 'o', 'p', 'q', 'r', 's', \\\n",
    "                   't', 'u', 'v', 'w', 'x', 'y', 'z']\n",
    "    return ''.join(random.sample(low_letters, 1))\n",
    "\n",
    "def gen_upp_let():\n",
    "    upp_letters = ['A', 'B', 'C', 'D', 'E', 'F', 'G', 'H', 'I', 'J', 'K', 'L', 'M', 'N', 'O', 'P', 'Q', 'R', 'S',\\\n",
    "                   'T', 'U', 'V', 'W', 'X', 'Y', 'Z']\n",
    "    return ''.join(random.sample(upp_letters, 1))\n",
    "\n",
    "def gen_symb():\n",
    "    return ''.join(random.sample(string.punctuation, 1))\n",
    "\n",
    "\n",
    "def gen_pass():\n",
    "    len_password = int(input(\"How long your password should be?\\n\"))\n",
    "    while len_password < 5:\n",
    "        len_password = int(input(\"The password should contain at least 5 characters:\\n\"))\n",
    "    password = []\n",
    "    for i in range(len_password):\n",
    "        k = random.randint(0, 3)\n",
    "        if k == 0:\n",
    "            password.append(gen_dig())\n",
    "        elif k == 1:\n",
    "            password.append(gen_low_let())\n",
    "        elif k == 2:\n",
    "            password.append(gen_upp_let())\n",
    "        elif k == 3:\n",
    "            password.append(gen_symb())\n",
    "    return ''.join(password)"
   ]
  },
  {
   "cell_type": "code",
   "execution_count": 81,
   "metadata": {},
   "outputs": [
    {
     "name": "stdout",
     "output_type": "stream",
     "text": [
      "How long your password should be?\n",
      "1\n",
      "The password should contain at least 5 characters:\n",
      "9\n"
     ]
    },
    {
     "data": {
      "text/plain": [
       "'JiklS?3@B}'"
      ]
     },
     "execution_count": 81,
     "metadata": {},
     "output_type": "execute_result"
    }
   ],
   "source": [
    "gen_pass()"
   ]
  },
  {
   "cell_type": "markdown",
   "metadata": {},
   "source": [
    "Another solution, not mine:"
   ]
  },
  {
   "cell_type": "code",
   "execution_count": 83,
   "metadata": {},
   "outputs": [
    {
     "name": "stdout",
     "output_type": "stream",
     "text": [
      "How many characters in your password?7\n",
      "AAZ{Q*]\n"
     ]
    }
   ],
   "source": [
    "import string\n",
    "import random\n",
    "\n",
    "def pw_gen(size = 8, chars=string.ascii_letters + string.digits + string.punctuation):\n",
    "\treturn ''.join(random.choice(chars) for _ in range(size))\n",
    "\n",
    "print(pw_gen(int(input('How many characters in your password?'))))"
   ]
  },
  {
   "cell_type": "markdown",
   "metadata": {},
   "source": [
    "# Exercise 17 - Decode A Web Page\n",
    "Use the BeautifulSoup (library for pulling data out of HTML and XML files) and requests Python packages to print out a list of all the article titles on the New York Times homepage."
   ]
  },
  {
   "cell_type": "code",
   "execution_count": 85,
   "metadata": {},
   "outputs": [
    {
     "name": "stdout",
     "output_type": "stream",
     "text": [
      "<html>\n",
      " <head>\n",
      "  <title>\n",
      "   The Dormouse's story\n",
      "  </title>\n",
      " </head>\n",
      " <body>\n",
      "  <p class=\"title\">\n",
      "   <b>\n",
      "    The Dormouse's story\n",
      "   </b>\n",
      "  </p>\n",
      "  <p class=\"story\">\n",
      "   Once upon a time there were three little sisters; and their names were\n",
      "   <a class=\"sister\" href=\"http://example.com/elsie\" id=\"link1\">\n",
      "    Elsie\n",
      "   </a>\n",
      "   ,\n",
      "   <a class=\"sister\" href=\"http://example.com/lacie\" id=\"link2\">\n",
      "    Lacie\n",
      "   </a>\n",
      "   and\n",
      "   <a class=\"sister\" href=\"http://example.com/tillie\" id=\"link3\">\n",
      "    Tillie\n",
      "   </a>\n",
      "   ;\n",
      "and they lived at the bottom of a well.\n",
      "  </p>\n",
      "  <p class=\"story\">\n",
      "   ...\n",
      "  </p>\n",
      " </body>\n",
      "</html>\n"
     ]
    }
   ],
   "source": [
    "html_doc = \"\"\"\n",
    "<html><head><title>The Dormouse's story</title></head>\n",
    "<body>\n",
    "<p class=\"title\"><b>The Dormouse's story</b></p>\n",
    "\n",
    "<p class=\"story\">Once upon a time there were three little sisters; and their names were\n",
    "<a href=\"http://example.com/elsie\" class=\"sister\" id=\"link1\">Elsie</a>,\n",
    "<a href=\"http://example.com/lacie\" class=\"sister\" id=\"link2\">Lacie</a> and\n",
    "<a href=\"http://example.com/tillie\" class=\"sister\" id=\"link3\">Tillie</a>;\n",
    "and they lived at the bottom of a well.</p>\n",
    "\n",
    "<p class=\"story\">...</p>\n",
    "\"\"\"\n",
    "from bs4 import BeautifulSoup\n",
    "soup = BeautifulSoup(html_doc, 'html.parser')\n",
    "\n",
    "print(soup.prettify())"
   ]
  },
  {
   "cell_type": "code",
   "execution_count": null,
   "metadata": {},
   "outputs": [],
   "source": []
  }
 ],
 "metadata": {
  "kernelspec": {
   "display_name": "Python 3",
   "language": "python",
   "name": "python3"
  },
  "language_info": {
   "codemirror_mode": {
    "name": "ipython",
    "version": 3
   },
   "file_extension": ".py",
   "mimetype": "text/x-python",
   "name": "python",
   "nbconvert_exporter": "python",
   "pygments_lexer": "ipython3",
   "version": "3.7.4"
  }
 },
 "nbformat": 4,
 "nbformat_minor": 2
}
